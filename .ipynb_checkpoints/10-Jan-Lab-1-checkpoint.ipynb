{
 "cells": [
  {
   "cell_type": "code",
   "execution_count": 1,
   "id": "d06336d7-c0dc-488d-94b0-3f2b3bb3d905",
   "metadata": {},
   "outputs": [
    {
     "name": "stdout",
     "output_type": "stream",
     "text": [
      "Welcome KIITIANS\n"
     ]
    }
   ],
   "source": [
    "print(\"Welcome KIITIANS\")"
   ]
  },
  {
   "cell_type": "code",
   "execution_count": 2,
   "id": "cad42499-2610-44c6-896f-e03b199e8cec",
   "metadata": {},
   "outputs": [
    {
     "name": "stdout",
     "output_type": "stream",
     "text": [
      "We are enjoying learning Python today!\n"
     ]
    }
   ],
   "source": [
    "print(\"We are enjoying learning Python today!\")"
   ]
  },
  {
   "cell_type": "code",
   "execution_count": 3,
   "id": "c3e118d4-feb8-43a1-98a3-0291f9b8abab",
   "metadata": {},
   "outputs": [
    {
     "name": "stdout",
     "output_type": "stream",
     "text": [
      "A very Happy and Healthy New Year!\n"
     ]
    }
   ],
   "source": [
    "#Single Line Comment\n",
    "'''Multiple\n",
    "   line\n",
    "   Comments'''\n",
    "print('A very Happy and Healthy New Year!')"
   ]
  },
  {
   "cell_type": "code",
   "execution_count": 4,
   "id": "9ae8d4a0-76ee-4bb2-b9e2-be8ec218b20f",
   "metadata": {},
   "outputs": [
    {
     "data": {
      "text/plain": [
       "135"
      ]
     },
     "execution_count": 4,
     "metadata": {},
     "output_type": "execute_result"
    }
   ],
   "source": [
    "45+90"
   ]
  },
  {
   "cell_type": "code",
   "execution_count": 5,
   "id": "3bb657e4-26fe-4295-b4a4-d553969aac93",
   "metadata": {},
   "outputs": [
    {
     "name": "stdout",
     "output_type": "stream",
     "text": [
      "False\n"
     ]
    }
   ],
   "source": [
    "print(45>90)"
   ]
  },
  {
   "cell_type": "code",
   "execution_count": 52,
   "id": "ea84ec26-2bd3-4c82-93f9-7c1ea23cf9f8",
   "metadata": {},
   "outputs": [
    {
     "name": "stdout",
     "output_type": "stream",
     "text": [
      "5\n",
      "<class 'int'>\n",
      "<class 'float'>\n",
      "<class 'bool'>\n"
     ]
    }
   ],
   "source": [
    "x=5\n",
    "print(x)    # Printing the value of the variable\n",
    "print(type(x))    # Printing the data type of the variable\n",
    "y = 2.5\n",
    "print(type(y))\n",
    "t,f = True,False\n",
    "print(type(t))\n"
   ]
  },
  {
   "cell_type": "code",
   "execution_count": 6,
   "id": "17d14f09-1b00-4bdb-96f9-4ce1140d04f1",
   "metadata": {},
   "outputs": [],
   "source": [
    "x=\"Welcome to KiiT\""
   ]
  },
  {
   "cell_type": "code",
   "execution_count": 54,
   "id": "eb3e6033-79a2-4836-9705-cd78b7a68767",
   "metadata": {},
   "outputs": [
    {
     "name": "stdout",
     "output_type": "stream",
     "text": [
      "Welcome to KiiT\n"
     ]
    }
   ],
   "source": [
    "print(x)"
   ]
  },
  {
   "cell_type": "code",
   "execution_count": 55,
   "id": "24a16651-4bde-45d8-a22a-0d6f49c41f51",
   "metadata": {},
   "outputs": [
    {
     "data": {
      "text/plain": [
       "15"
      ]
     },
     "execution_count": 55,
     "metadata": {},
     "output_type": "execute_result"
    }
   ],
   "source": [
    "# find out the size of x:length of string variable\n",
    "len(x)"
   ]
  },
  {
   "cell_type": "code",
   "execution_count": 56,
   "id": "69f8f254-1fda-4989-a579-5b0846d74415",
   "metadata": {},
   "outputs": [
    {
     "data": {
      "text/plain": [
       "str"
      ]
     },
     "execution_count": 56,
     "metadata": {},
     "output_type": "execute_result"
    }
   ],
   "source": [
    "type(x)"
   ]
  },
  {
   "cell_type": "code",
   "execution_count": 57,
   "id": "0f30b314-5e6f-4ca4-8e88-a52199b77fd2",
   "metadata": {},
   "outputs": [
    {
     "name": "stdout",
     "output_type": "stream",
     "text": [
      "<class 'str'>\n"
     ]
    }
   ],
   "source": [
    "print(type(x))"
   ]
  },
  {
   "cell_type": "code",
   "execution_count": 58,
   "id": "1ba08230-5585-45d5-9e95-86a69d2c0abf",
   "metadata": {},
   "outputs": [
    {
     "data": {
      "text/plain": [
       "'WELCOME TO KIIT'"
      ]
     },
     "execution_count": 58,
     "metadata": {},
     "output_type": "execute_result"
    }
   ],
   "source": [
    "#display x in Upper Case\n",
    "x.upper()"
   ]
  },
  {
   "cell_type": "code",
   "execution_count": 59,
   "id": "e5ad5729-ebf6-44f7-9d4b-730ec4d34837",
   "metadata": {},
   "outputs": [],
   "source": [
    "#check what are the methods available in str"
   ]
  },
  {
   "cell_type": "code",
   "execution_count": 60,
   "id": "4727af1b-6f37-4b18-b93c-4e80a4f58063",
   "metadata": {},
   "outputs": [
    {
     "data": {
      "text/plain": [
       "['__add__',\n",
       " '__class__',\n",
       " '__contains__',\n",
       " '__delattr__',\n",
       " '__dir__',\n",
       " '__doc__',\n",
       " '__eq__',\n",
       " '__format__',\n",
       " '__ge__',\n",
       " '__getattribute__',\n",
       " '__getitem__',\n",
       " '__getnewargs__',\n",
       " '__gt__',\n",
       " '__hash__',\n",
       " '__init__',\n",
       " '__init_subclass__',\n",
       " '__iter__',\n",
       " '__le__',\n",
       " '__len__',\n",
       " '__lt__',\n",
       " '__mod__',\n",
       " '__mul__',\n",
       " '__ne__',\n",
       " '__new__',\n",
       " '__reduce__',\n",
       " '__reduce_ex__',\n",
       " '__repr__',\n",
       " '__rmod__',\n",
       " '__rmul__',\n",
       " '__setattr__',\n",
       " '__sizeof__',\n",
       " '__str__',\n",
       " '__subclasshook__',\n",
       " 'capitalize',\n",
       " 'casefold',\n",
       " 'center',\n",
       " 'count',\n",
       " 'encode',\n",
       " 'endswith',\n",
       " 'expandtabs',\n",
       " 'find',\n",
       " 'format',\n",
       " 'format_map',\n",
       " 'index',\n",
       " 'isalnum',\n",
       " 'isalpha',\n",
       " 'isascii',\n",
       " 'isdecimal',\n",
       " 'isdigit',\n",
       " 'isidentifier',\n",
       " 'islower',\n",
       " 'isnumeric',\n",
       " 'isprintable',\n",
       " 'isspace',\n",
       " 'istitle',\n",
       " 'isupper',\n",
       " 'join',\n",
       " 'ljust',\n",
       " 'lower',\n",
       " 'lstrip',\n",
       " 'maketrans',\n",
       " 'partition',\n",
       " 'removeprefix',\n",
       " 'removesuffix',\n",
       " 'replace',\n",
       " 'rfind',\n",
       " 'rindex',\n",
       " 'rjust',\n",
       " 'rpartition',\n",
       " 'rsplit',\n",
       " 'rstrip',\n",
       " 'split',\n",
       " 'splitlines',\n",
       " 'startswith',\n",
       " 'strip',\n",
       " 'swapcase',\n",
       " 'title',\n",
       " 'translate',\n",
       " 'upper',\n",
       " 'zfill']"
      ]
     },
     "execution_count": 60,
     "metadata": {},
     "output_type": "execute_result"
    }
   ],
   "source": [
    "dir(str)"
   ]
  },
  {
   "cell_type": "code",
   "execution_count": 61,
   "id": "8433208e-5c2e-451d-a503-08f0e33ca304",
   "metadata": {},
   "outputs": [],
   "source": [
    "#how to use upper, use help command"
   ]
  },
  {
   "cell_type": "code",
   "execution_count": 62,
   "id": "df74175f-5f5b-4a09-9439-568ad4f1fe44",
   "metadata": {},
   "outputs": [
    {
     "name": "stdout",
     "output_type": "stream",
     "text": [
      "Help on method_descriptor:\n",
      "\n",
      "upper(self, /)\n",
      "    Return a copy of the string converted to uppercase.\n",
      "\n"
     ]
    }
   ],
   "source": [
    "help(str.upper)"
   ]
  },
  {
   "cell_type": "code",
   "execution_count": 63,
   "id": "0c56e671-3136-4a1a-aafa-b094b44fbbe0",
   "metadata": {},
   "outputs": [
    {
     "data": {
      "text/plain": [
       "'WELCOME TO KIIT'"
      ]
     },
     "execution_count": 63,
     "metadata": {},
     "output_type": "execute_result"
    }
   ],
   "source": [
    "x.upper()"
   ]
  },
  {
   "cell_type": "code",
   "execution_count": 64,
   "id": "ab41d460-73e7-4ce8-b87e-9ff6a29ba742",
   "metadata": {},
   "outputs": [
    {
     "data": {
      "text/plain": [
       "'Welcome to kiit'"
      ]
     },
     "execution_count": 64,
     "metadata": {},
     "output_type": "execute_result"
    }
   ],
   "source": [
    "x.capitalize() #only 1st letter capital"
   ]
  },
  {
   "cell_type": "code",
   "execution_count": 65,
   "id": "56b3eed5-d6f8-472d-bc8f-8a7e47152a5f",
   "metadata": {},
   "outputs": [
    {
     "data": {
      "text/plain": [
       "'Welcome to KiiT'"
      ]
     },
     "execution_count": 65,
     "metadata": {},
     "output_type": "execute_result"
    }
   ],
   "source": [
    "x"
   ]
  },
  {
   "cell_type": "code",
   "execution_count": 66,
   "id": "8e1bb67b-cee7-4a9f-a42c-10526a180333",
   "metadata": {},
   "outputs": [
    {
     "data": {
      "text/plain": [
       "'welcome to kiit'"
      ]
     },
     "execution_count": 66,
     "metadata": {},
     "output_type": "execute_result"
    }
   ],
   "source": [
    "x.lower()"
   ]
  },
  {
   "cell_type": "code",
   "execution_count": 67,
   "id": "c2d08099-7bd3-40ff-b492-ce76d160479d",
   "metadata": {},
   "outputs": [
    {
     "data": {
      "text/plain": [
       "'Welcome to KiiT'"
      ]
     },
     "execution_count": 67,
     "metadata": {},
     "output_type": "execute_result"
    }
   ],
   "source": [
    "x"
   ]
  },
  {
   "cell_type": "code",
   "execution_count": 68,
   "id": "53e31dfa-dbfc-4dac-9a25-6fac12cf2f7c",
   "metadata": {},
   "outputs": [],
   "source": [
    "# Indexing"
   ]
  },
  {
   "cell_type": "code",
   "execution_count": 69,
   "id": "dc90e011-a1e8-43ad-9a65-9852a6cb5e29",
   "metadata": {},
   "outputs": [
    {
     "data": {
      "text/plain": [
       "'W'"
      ]
     },
     "execution_count": 69,
     "metadata": {},
     "output_type": "execute_result"
    }
   ],
   "source": [
    "x[0]"
   ]
  },
  {
   "cell_type": "code",
   "execution_count": 70,
   "id": "9e7bf835-0c65-4bc7-9950-72d16d87a3d7",
   "metadata": {},
   "outputs": [
    {
     "data": {
      "text/plain": [
       "'e'"
      ]
     },
     "execution_count": 70,
     "metadata": {},
     "output_type": "execute_result"
    }
   ],
   "source": [
    "x[1]"
   ]
  },
  {
   "cell_type": "code",
   "execution_count": 71,
   "id": "b5b3bb43-563b-4564-a5d0-3d72f69efabf",
   "metadata": {},
   "outputs": [
    {
     "data": {
      "text/plain": [
       "'T'"
      ]
     },
     "execution_count": 71,
     "metadata": {},
     "output_type": "execute_result"
    }
   ],
   "source": [
    "x[-1]"
   ]
  },
  {
   "cell_type": "code",
   "execution_count": 72,
   "id": "386b98b0-10f8-4b66-b7a0-1b054d7d7201",
   "metadata": {},
   "outputs": [
    {
     "data": {
      "text/plain": [
       "'c'"
      ]
     },
     "execution_count": 72,
     "metadata": {},
     "output_type": "execute_result"
    }
   ],
   "source": [
    "x[3]"
   ]
  },
  {
   "cell_type": "code",
   "execution_count": 73,
   "id": "0d15771a-38d9-44b3-8b70-e847d15e25d0",
   "metadata": {},
   "outputs": [
    {
     "ename": "TypeError",
     "evalue": "'str' object does not support item assignment",
     "output_type": "error",
     "traceback": [
      "\u001b[1;31m---------------------------------------------------------------------------\u001b[0m",
      "\u001b[1;31mTypeError\u001b[0m                                 Traceback (most recent call last)",
      "Cell \u001b[1;32mIn[73], line 1\u001b[0m\n\u001b[1;32m----> 1\u001b[0m \u001b[43mx\u001b[49m\u001b[43m[\u001b[49m\u001b[38;5;241;43m3\u001b[39;49m\u001b[43m]\u001b[49m \u001b[38;5;241m=\u001b[39m \u001b[38;5;124m'\u001b[39m\u001b[38;5;124mk\u001b[39m\u001b[38;5;124m'\u001b[39m\n",
      "\u001b[1;31mTypeError\u001b[0m: 'str' object does not support item assignment"
     ]
    }
   ],
   "source": [
    "x[3] = 'k'"
   ]
  },
  {
   "cell_type": "code",
   "execution_count": 74,
   "id": "152216ea-550b-4af7-b848-f47cd83e8728",
   "metadata": {},
   "outputs": [],
   "source": [
    "# strings are Immutable-Read only"
   ]
  },
  {
   "cell_type": "code",
   "execution_count": 75,
   "id": "19e319bc-d54f-4252-9f0e-66b8d6d24de7",
   "metadata": {},
   "outputs": [],
   "source": [
    "#print all the characters from c till k of x"
   ]
  },
  {
   "cell_type": "code",
   "execution_count": 76,
   "id": "a64c4656-1ccc-42d6-9163-d263dd1ed0f2",
   "metadata": {},
   "outputs": [
    {
     "data": {
      "text/plain": [
       "'Welcome to KiiT'"
      ]
     },
     "execution_count": 76,
     "metadata": {},
     "output_type": "execute_result"
    }
   ],
   "source": [
    "x"
   ]
  },
  {
   "cell_type": "code",
   "execution_count": 77,
   "id": "45fa4511-9e0c-4e7c-b075-59a8476d6ff5",
   "metadata": {},
   "outputs": [
    {
     "data": {
      "text/plain": [
       "'lcom'"
      ]
     },
     "execution_count": 77,
     "metadata": {},
     "output_type": "execute_result"
    }
   ],
   "source": [
    "x[2:6]"
   ]
  },
  {
   "cell_type": "code",
   "execution_count": 78,
   "id": "26790dbc-130b-499c-ae1c-fc6318b8305e",
   "metadata": {},
   "outputs": [
    {
     "data": {
      "text/plain": [
       "'me '"
      ]
     },
     "execution_count": 78,
     "metadata": {},
     "output_type": "execute_result"
    }
   ],
   "source": [
    "x[5:8]"
   ]
  },
  {
   "cell_type": "code",
   "execution_count": 79,
   "id": "fefbfcf1-5ac8-4788-84b2-5c599e86d0cd",
   "metadata": {},
   "outputs": [
    {
     "data": {
      "text/plain": [
       "'ome to KiiT'"
      ]
     },
     "execution_count": 79,
     "metadata": {},
     "output_type": "execute_result"
    }
   ],
   "source": [
    "x[4:]"
   ]
  },
  {
   "cell_type": "code",
   "execution_count": 80,
   "id": "36eb89dd-7ecb-4c2a-8fbe-14282b7d24f3",
   "metadata": {},
   "outputs": [
    {
     "data": {
      "text/plain": [
       "'Welc'"
      ]
     },
     "execution_count": 80,
     "metadata": {},
     "output_type": "execute_result"
    }
   ],
   "source": [
    "x[:4]"
   ]
  },
  {
   "cell_type": "code",
   "execution_count": 81,
   "id": "99ffdc6b-823d-4406-a2c8-753c3ab64688",
   "metadata": {},
   "outputs": [
    {
     "data": {
      "text/plain": [
       "'K'"
      ]
     },
     "execution_count": 81,
     "metadata": {},
     "output_type": "execute_result"
    }
   ],
   "source": [
    "x[-4]"
   ]
  },
  {
   "cell_type": "code",
   "execution_count": 82,
   "id": "cdb14e1c-7d80-4dc9-9bdd-6340aa7826ce",
   "metadata": {},
   "outputs": [
    {
     "name": "stdout",
     "output_type": "stream",
     "text": [
      "<class 'NoneType'>\n"
     ]
    }
   ],
   "source": [
    "p=None\n",
    "print(type(p))"
   ]
  },
  {
   "cell_type": "code",
   "execution_count": 83,
   "id": "11795639-af3c-46b1-84cc-556b2890ebb9",
   "metadata": {},
   "outputs": [
    {
     "data": {
      "text/plain": [
       "'\\n1. int\\n2. float\\n3. bool\\n4. str\\n5. NoneType\\n'"
      ]
     },
     "execution_count": 83,
     "metadata": {},
     "output_type": "execute_result"
    }
   ],
   "source": [
    "'''\n",
    "1. int\n",
    "2. float\n",
    "3. bool\n",
    "4. str\n",
    "5. NoneType\n",
    "'''"
   ]
  },
  {
   "cell_type": "code",
   "execution_count": 84,
   "id": "90aa290c-da34-4791-bb99-80c907185334",
   "metadata": {},
   "outputs": [],
   "source": [
    "a,b,c,d,e=20,20.9,6>8, \"T&T Lab\", None"
   ]
  },
  {
   "cell_type": "code",
   "execution_count": 85,
   "id": "f1ce2691-3048-4e4f-b857-96d552c7f44e",
   "metadata": {},
   "outputs": [
    {
     "name": "stdout",
     "output_type": "stream",
     "text": [
      "<class 'int'> <class 'float'> <class 'bool'> <class 'str'> <class 'NoneType'>\n"
     ]
    }
   ],
   "source": [
    "print(type(a), type(b), type(c), type(d), type(e))"
   ]
  },
  {
   "cell_type": "code",
   "execution_count": 86,
   "id": "26178130-3c5a-48f7-b265-c506660ae2c6",
   "metadata": {},
   "outputs": [
    {
     "name": "stdout",
     "output_type": "stream",
     "text": [
      "Python 3.10.11\n"
     ]
    }
   ],
   "source": [
    "#check version of python\n",
    "!python --version"
   ]
  },
  {
   "cell_type": "code",
   "execution_count": 4,
   "id": "e75a9b4b-1f55-44cf-bc26-51a55adf6f60",
   "metadata": {},
   "outputs": [],
   "source": [
    "teacher=\"Sarita\"\n",
    "sub=\"TTL\"\n",
    "dept=\"cse-32\"\n",
    "students=80"
   ]
  },
  {
   "cell_type": "code",
   "execution_count": 16,
   "id": "a095d5de-896f-45a2-b1db-a3823480f22c",
   "metadata": {},
   "outputs": [
    {
     "name": "stdout",
     "output_type": "stream",
     "text": [
      "I am Sarita teaching TTL in cse-32 with 80 students\n"
     ]
    }
   ],
   "source": [
    "print(\"I am {} teaching {} in {} with {} students\".format(teacher,sub,dept,students))"
   ]
  },
  {
   "cell_type": "code",
   "execution_count": 17,
   "id": "223eaa57-e813-4d7e-9dea-a2ffa91c3bed",
   "metadata": {},
   "outputs": [],
   "source": [
    "# Round number "
   ]
  },
  {
   "cell_type": "code",
   "execution_count": 18,
   "id": "1cabd87c-0879-4a25-a78c-f6f169eb0742",
   "metadata": {},
   "outputs": [],
   "source": [
    "# Syntax: round(number,digits)"
   ]
  },
  {
   "cell_type": "code",
   "execution_count": 20,
   "id": "7a9937d8-62c6-4197-a9e6-7f660aede5af",
   "metadata": {},
   "outputs": [
    {
     "data": {
      "text/plain": [
       "23.57"
      ]
     },
     "execution_count": 20,
     "metadata": {},
     "output_type": "execute_result"
    }
   ],
   "source": [
    "round(23.5678,2)"
   ]
  },
  {
   "cell_type": "code",
   "execution_count": 21,
   "id": "096b9cf0-6d76-461c-8e5b-76511b89048d",
   "metadata": {},
   "outputs": [
    {
     "data": {
      "text/plain": [
       "23.56"
      ]
     },
     "execution_count": 21,
     "metadata": {},
     "output_type": "execute_result"
    }
   ],
   "source": [
    "round(23.5624,2)"
   ]
  },
  {
   "cell_type": "code",
   "execution_count": 22,
   "id": "c432e3c6-afb6-4bba-a0b7-d55e2020f543",
   "metadata": {},
   "outputs": [
    {
     "data": {
      "text/plain": [
       "24"
      ]
     },
     "execution_count": 22,
     "metadata": {},
     "output_type": "execute_result"
    }
   ],
   "source": [
    "round(23.78)"
   ]
  },
  {
   "cell_type": "code",
   "execution_count": 23,
   "id": "721b627e-72bc-4e70-b8df-a6cf33735d55",
   "metadata": {},
   "outputs": [
    {
     "data": {
      "text/plain": [
       "23"
      ]
     },
     "execution_count": 23,
     "metadata": {},
     "output_type": "execute_result"
    }
   ],
   "source": [
    "round(23.45)"
   ]
  },
  {
   "cell_type": "code",
   "execution_count": 24,
   "id": "ae798593-3a7a-47cd-a0e7-966802c7c8d9",
   "metadata": {},
   "outputs": [
    {
     "data": {
      "text/plain": [
       "24"
      ]
     },
     "execution_count": 24,
     "metadata": {},
     "output_type": "execute_result"
    }
   ],
   "source": [
    "round(23.55)"
   ]
  },
  {
   "cell_type": "code",
   "execution_count": 25,
   "id": "24b5b672-0357-4a34-8055-1d776ca61e15",
   "metadata": {},
   "outputs": [
    {
     "name": "stdin",
     "output_type": "stream",
     "text": [
      "Enter value:  23\n"
     ]
    },
    {
     "data": {
      "text/plain": [
       "'23'"
      ]
     },
     "execution_count": 25,
     "metadata": {},
     "output_type": "execute_result"
    }
   ],
   "source": [
    "input(\"Enter value: \")"
   ]
  },
  {
   "cell_type": "code",
   "execution_count": 26,
   "id": "925779a8-43ba-4764-b331-4b9bbed40207",
   "metadata": {},
   "outputs": [
    {
     "name": "stdin",
     "output_type": "stream",
     "text": [
      "Enter value:  Hello\n"
     ]
    },
    {
     "data": {
      "text/plain": [
       "'Hello'"
      ]
     },
     "execution_count": 26,
     "metadata": {},
     "output_type": "execute_result"
    }
   ],
   "source": [
    "input(\"Enter value: \")"
   ]
  },
  {
   "cell_type": "code",
   "execution_count": 27,
   "id": "1279c496-d4da-4a6a-99ca-8c362411a36a",
   "metadata": {},
   "outputs": [
    {
     "name": "stdin",
     "output_type": "stream",
     "text": [
      "Enter value:  45\n"
     ]
    }
   ],
   "source": [
    "var = input(\"Enter value: \")"
   ]
  },
  {
   "cell_type": "code",
   "execution_count": 28,
   "id": "637a8818-938a-42f6-be03-0657797c66d6",
   "metadata": {},
   "outputs": [
    {
     "data": {
      "text/plain": [
       "str"
      ]
     },
     "execution_count": 28,
     "metadata": {},
     "output_type": "execute_result"
    }
   ],
   "source": [
    "type(var)"
   ]
  },
  {
   "cell_type": "code",
   "execution_count": 29,
   "id": "98028754-b71f-41fc-8738-da75ffd16d20",
   "metadata": {},
   "outputs": [],
   "source": [
    "var = \"Hello World\""
   ]
  },
  {
   "cell_type": "code",
   "execution_count": 30,
   "id": "c8657921-d3a0-4362-8ee8-90bce17c83e9",
   "metadata": {},
   "outputs": [
    {
     "data": {
      "text/plain": [
       "11"
      ]
     },
     "execution_count": 30,
     "metadata": {},
     "output_type": "execute_result"
    }
   ],
   "source": [
    "len(var)"
   ]
  },
  {
   "cell_type": "code",
   "execution_count": 31,
   "id": "7300ee5d-c324-45b7-a809-17e6ff484760",
   "metadata": {},
   "outputs": [],
   "source": [
    "var2=[10,20,30,40]"
   ]
  },
  {
   "cell_type": "code",
   "execution_count": 32,
   "id": "16fc4acd-f64c-4137-8454-6499616a5c5b",
   "metadata": {},
   "outputs": [
    {
     "data": {
      "text/plain": [
       "4"
      ]
     },
     "execution_count": 32,
     "metadata": {},
     "output_type": "execute_result"
    }
   ],
   "source": [
    "len(var2)"
   ]
  },
  {
   "cell_type": "code",
   "execution_count": 33,
   "id": "13374a12-30cf-4312-b35a-973029f937ca",
   "metadata": {},
   "outputs": [
    {
     "data": {
      "text/plain": [
       "4"
      ]
     },
     "execution_count": 33,
     "metadata": {},
     "output_type": "execute_result"
    }
   ],
   "source": [
    "var3=(10,20,30,40)\n",
    "len(var3)"
   ]
  },
  {
   "cell_type": "code",
   "execution_count": 42,
   "id": "044ca8c3-bc91-4249-8006-487ec26bab6a",
   "metadata": {},
   "outputs": [
    {
     "ename": "TypeError",
     "evalue": "object of type 'int' has no len()",
     "output_type": "error",
     "traceback": [
      "\u001b[1;31m---------------------------------------------------------------------------\u001b[0m",
      "\u001b[1;31mTypeError\u001b[0m                                 Traceback (most recent call last)",
      "Cell \u001b[1;32mIn[42], line 2\u001b[0m\n\u001b[0;32m      1\u001b[0m var4\u001b[38;5;241m=\u001b[39m\u001b[38;5;241m4567\u001b[39m\n\u001b[1;32m----> 2\u001b[0m \u001b[38;5;28;43mlen\u001b[39;49m\u001b[43m(\u001b[49m\u001b[43mvar4\u001b[49m\u001b[43m)\u001b[49m\n",
      "\u001b[1;31mTypeError\u001b[0m: object of type 'int' has no len()"
     ]
    }
   ],
   "source": [
    "var4=4567\n",
    "len(var4)"
   ]
  },
  {
   "cell_type": "code",
   "execution_count": 43,
   "id": "6cba2304-10ec-45a0-aba6-3beeb949eb48",
   "metadata": {},
   "outputs": [
    {
     "data": {
      "text/plain": [
       "True"
      ]
     },
     "execution_count": 43,
     "metadata": {},
     "output_type": "execute_result"
    }
   ],
   "source": [
    "str = \"123Hello\"\n",
    "str.isalnum()"
   ]
  },
  {
   "cell_type": "code",
   "execution_count": 44,
   "id": "daef7499-163c-4d9c-825b-67d23779f082",
   "metadata": {},
   "outputs": [
    {
     "data": {
      "text/plain": [
       "False"
      ]
     },
     "execution_count": 44,
     "metadata": {},
     "output_type": "execute_result"
    }
   ],
   "source": [
    "str = \"123@#Hello\"\n",
    "str.isalnum()"
   ]
  },
  {
   "cell_type": "code",
   "execution_count": 45,
   "id": "0b35a1fa-e30e-4efa-b41f-da3ff1ee7b3c",
   "metadata": {},
   "outputs": [],
   "source": [
    "str = \"hello\""
   ]
  },
  {
   "cell_type": "code",
   "execution_count": 46,
   "id": "21c3f148-2f45-4964-9026-976db3459eec",
   "metadata": {},
   "outputs": [
    {
     "data": {
      "text/plain": [
       "'Hello'"
      ]
     },
     "execution_count": 46,
     "metadata": {},
     "output_type": "execute_result"
    }
   ],
   "source": [
    "str.capitalize()"
   ]
  },
  {
   "cell_type": "code",
   "execution_count": 47,
   "id": "a312439c-35ee-488a-ae3f-6c9a25577edc",
   "metadata": {},
   "outputs": [
    {
     "data": {
      "text/plain": [
       "'Hello'"
      ]
     },
     "execution_count": 47,
     "metadata": {},
     "output_type": "execute_result"
    }
   ],
   "source": [
    "str = \"Hello\"\n",
    "str.capitalize()"
   ]
  },
  {
   "cell_type": "code",
   "execution_count": 49,
   "id": "3b6086f7-1417-4590-9f81-214d0f73c240",
   "metadata": {},
   "outputs": [
    {
     "data": {
      "text/plain": [
       "0"
      ]
     },
     "execution_count": 49,
     "metadata": {},
     "output_type": "execute_result"
    }
   ],
   "source": [
    "str.find(\"Hel\")"
   ]
  },
  {
   "cell_type": "code",
   "execution_count": 53,
   "id": "62f0d7b9-575a-451e-9f9c-70dec701c07e",
   "metadata": {},
   "outputs": [
    {
     "data": {
      "text/plain": [
       "2"
      ]
     },
     "execution_count": 53,
     "metadata": {},
     "output_type": "execute_result"
    }
   ],
   "source": [
    "str.count(\"l\")"
   ]
  },
  {
   "cell_type": "code",
   "execution_count": 66,
   "id": "b4eb9d81-6de8-476a-be3b-62b155d0bda4",
   "metadata": {},
   "outputs": [
    {
     "data": {
      "text/plain": [
       "'**Hello**'"
      ]
     },
     "execution_count": 66,
     "metadata": {},
     "output_type": "execute_result"
    }
   ],
   "source": [
    "str.center(9,'*')"
   ]
  },
  {
   "cell_type": "code",
   "execution_count": null,
   "id": "d53da48f-6f8c-44d7-919f-0c962fb6ef1e",
   "metadata": {},
   "outputs": [],
   "source": []
  }
 ],
 "metadata": {
  "kernelspec": {
   "display_name": "Python 3 (ipykernel)",
   "language": "python",
   "name": "python3"
  },
  "language_info": {
   "codemirror_mode": {
    "name": "ipython",
    "version": 3
   },
   "file_extension": ".py",
   "mimetype": "text/x-python",
   "name": "python",
   "nbconvert_exporter": "python",
   "pygments_lexer": "ipython3",
   "version": "3.10.11"
  }
 },
 "nbformat": 4,
 "nbformat_minor": 5
}
