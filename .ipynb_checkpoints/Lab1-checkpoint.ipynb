{
 "cells": [
  {
   "cell_type": "code",
   "execution_count": 1,
   "id": "d06336d7-c0dc-488d-94b0-3f2b3bb3d905",
   "metadata": {},
   "outputs": [
    {
     "name": "stdout",
     "output_type": "stream",
     "text": [
      "Welcome KIITIANS\n"
     ]
    }
   ],
   "source": [
    "print(\"Welcome KIITIANS\")"
   ]
  },
  {
   "cell_type": "code",
   "execution_count": 2,
   "id": "cad42499-2610-44c6-896f-e03b199e8cec",
   "metadata": {},
   "outputs": [
    {
     "name": "stdout",
     "output_type": "stream",
     "text": [
      "We are enjoying learning Python today!\n"
     ]
    }
   ],
   "source": [
    "print(\"We are enjoying learning Python today!\")"
   ]
  },
  {
   "cell_type": "code",
   "execution_count": 3,
   "id": "c3e118d4-feb8-43a1-98a3-0291f9b8abab",
   "metadata": {},
   "outputs": [
    {
     "name": "stdout",
     "output_type": "stream",
     "text": [
      "A very Happy and Healthy New Year!\n"
     ]
    }
   ],
   "source": [
    "#Single Line Comment\n",
    "'''Multiple\n",
    "   line\n",
    "   Comments'''\n",
    "print('A very Happy and Healthy New Year!')"
   ]
  },
  {
   "cell_type": "code",
   "execution_count": 4,
   "id": "9ae8d4a0-76ee-4bb2-b9e2-be8ec218b20f",
   "metadata": {},
   "outputs": [
    {
     "data": {
      "text/plain": [
       "135"
      ]
     },
     "execution_count": 4,
     "metadata": {},
     "output_type": "execute_result"
    }
   ],
   "source": [
    "45+90"
   ]
  },
  {
   "cell_type": "code",
   "execution_count": 5,
   "id": "3bb657e4-26fe-4295-b4a4-d553969aac93",
   "metadata": {},
   "outputs": [
    {
     "name": "stdout",
     "output_type": "stream",
     "text": [
      "False\n"
     ]
    }
   ],
   "source": [
    "print(45>90)"
   ]
  },
  {
   "cell_type": "code",
   "execution_count": 6,
   "id": "ea84ec26-2bd3-4c82-93f9-7c1ea23cf9f8",
   "metadata": {},
   "outputs": [
    {
     "name": "stdout",
     "output_type": "stream",
     "text": [
      "5\n",
      "<class 'int'>\n",
      "<class 'float'>\n",
      "<class 'bool'>\n"
     ]
    }
   ],
   "source": [
    "x=5\n",
    "print(x)    # Printing the value of the variable\n",
    "print(type(x))    # Printing the data type of the variable\n",
    "y = 2.5\n",
    "print(type(y))\n",
    "t,f = True,False\n",
    "print(type(t))\n"
   ]
  },
  {
   "cell_type": "code",
   "execution_count": 7,
   "id": "17d14f09-1b00-4bdb-96f9-4ce1140d04f1",
   "metadata": {},
   "outputs": [],
   "source": [
    "x=\"Welcome to KiiT\""
   ]
  },
  {
   "cell_type": "code",
   "execution_count": 8,
   "id": "eb3e6033-79a2-4836-9705-cd78b7a68767",
   "metadata": {},
   "outputs": [
    {
     "name": "stdout",
     "output_type": "stream",
     "text": [
      "Welcome to KiiT\n"
     ]
    }
   ],
   "source": [
    "print(x)"
   ]
  },
  {
   "cell_type": "code",
   "execution_count": 9,
   "id": "24a16651-4bde-45d8-a22a-0d6f49c41f51",
   "metadata": {},
   "outputs": [
    {
     "data": {
      "text/plain": [
       "15"
      ]
     },
     "execution_count": 9,
     "metadata": {},
     "output_type": "execute_result"
    }
   ],
   "source": [
    "# find out the size of x:length of string variable\n",
    "len(x)"
   ]
  },
  {
   "cell_type": "code",
   "execution_count": 10,
   "id": "69f8f254-1fda-4989-a579-5b0846d74415",
   "metadata": {},
   "outputs": [
    {
     "data": {
      "text/plain": [
       "str"
      ]
     },
     "execution_count": 10,
     "metadata": {},
     "output_type": "execute_result"
    }
   ],
   "source": [
    "type(x)"
   ]
  },
  {
   "cell_type": "code",
   "execution_count": 11,
   "id": "0f30b314-5e6f-4ca4-8e88-a52199b77fd2",
   "metadata": {},
   "outputs": [
    {
     "name": "stdout",
     "output_type": "stream",
     "text": [
      "<class 'str'>\n"
     ]
    }
   ],
   "source": [
    "print(type(x))"
   ]
  },
  {
   "cell_type": "code",
   "execution_count": 12,
   "id": "1ba08230-5585-45d5-9e95-86a69d2c0abf",
   "metadata": {},
   "outputs": [
    {
     "data": {
      "text/plain": [
       "'WELCOME TO KIIT'"
      ]
     },
     "execution_count": 12,
     "metadata": {},
     "output_type": "execute_result"
    }
   ],
   "source": [
    "#display x in Upper Case\n",
    "x.upper()"
   ]
  },
  {
   "cell_type": "code",
   "execution_count": 13,
   "id": "e5ad5729-ebf6-44f7-9d4b-730ec4d34837",
   "metadata": {},
   "outputs": [],
   "source": [
    "#check what are the methods available in str"
   ]
  },
  {
   "cell_type": "code",
   "execution_count": 14,
   "id": "4727af1b-6f37-4b18-b93c-4e80a4f58063",
   "metadata": {},
   "outputs": [
    {
     "data": {
      "text/plain": [
       "['__add__',\n",
       " '__class__',\n",
       " '__contains__',\n",
       " '__delattr__',\n",
       " '__dir__',\n",
       " '__doc__',\n",
       " '__eq__',\n",
       " '__format__',\n",
       " '__ge__',\n",
       " '__getattribute__',\n",
       " '__getitem__',\n",
       " '__getnewargs__',\n",
       " '__gt__',\n",
       " '__hash__',\n",
       " '__init__',\n",
       " '__init_subclass__',\n",
       " '__iter__',\n",
       " '__le__',\n",
       " '__len__',\n",
       " '__lt__',\n",
       " '__mod__',\n",
       " '__mul__',\n",
       " '__ne__',\n",
       " '__new__',\n",
       " '__reduce__',\n",
       " '__reduce_ex__',\n",
       " '__repr__',\n",
       " '__rmod__',\n",
       " '__rmul__',\n",
       " '__setattr__',\n",
       " '__sizeof__',\n",
       " '__str__',\n",
       " '__subclasshook__',\n",
       " 'capitalize',\n",
       " 'casefold',\n",
       " 'center',\n",
       " 'count',\n",
       " 'encode',\n",
       " 'endswith',\n",
       " 'expandtabs',\n",
       " 'find',\n",
       " 'format',\n",
       " 'format_map',\n",
       " 'index',\n",
       " 'isalnum',\n",
       " 'isalpha',\n",
       " 'isascii',\n",
       " 'isdecimal',\n",
       " 'isdigit',\n",
       " 'isidentifier',\n",
       " 'islower',\n",
       " 'isnumeric',\n",
       " 'isprintable',\n",
       " 'isspace',\n",
       " 'istitle',\n",
       " 'isupper',\n",
       " 'join',\n",
       " 'ljust',\n",
       " 'lower',\n",
       " 'lstrip',\n",
       " 'maketrans',\n",
       " 'partition',\n",
       " 'removeprefix',\n",
       " 'removesuffix',\n",
       " 'replace',\n",
       " 'rfind',\n",
       " 'rindex',\n",
       " 'rjust',\n",
       " 'rpartition',\n",
       " 'rsplit',\n",
       " 'rstrip',\n",
       " 'split',\n",
       " 'splitlines',\n",
       " 'startswith',\n",
       " 'strip',\n",
       " 'swapcase',\n",
       " 'title',\n",
       " 'translate',\n",
       " 'upper',\n",
       " 'zfill']"
      ]
     },
     "execution_count": 14,
     "metadata": {},
     "output_type": "execute_result"
    }
   ],
   "source": [
    "dir(str)"
   ]
  },
  {
   "cell_type": "code",
   "execution_count": 15,
   "id": "8433208e-5c2e-451d-a503-08f0e33ca304",
   "metadata": {},
   "outputs": [],
   "source": [
    "#how to use upper, use help command"
   ]
  },
  {
   "cell_type": "code",
   "execution_count": 16,
   "id": "df74175f-5f5b-4a09-9439-568ad4f1fe44",
   "metadata": {},
   "outputs": [
    {
     "name": "stdout",
     "output_type": "stream",
     "text": [
      "Help on method_descriptor:\n",
      "\n",
      "upper(self, /)\n",
      "    Return a copy of the string converted to uppercase.\n",
      "\n"
     ]
    }
   ],
   "source": [
    "help(str.upper)"
   ]
  },
  {
   "cell_type": "code",
   "execution_count": 18,
   "id": "0c56e671-3136-4a1a-aafa-b094b44fbbe0",
   "metadata": {},
   "outputs": [
    {
     "data": {
      "text/plain": [
       "'WELCOME TO KIIT'"
      ]
     },
     "execution_count": 18,
     "metadata": {},
     "output_type": "execute_result"
    }
   ],
   "source": [
    "x.upper()"
   ]
  },
  {
   "cell_type": "code",
   "execution_count": 19,
   "id": "ab41d460-73e7-4ce8-b87e-9ff6a29ba742",
   "metadata": {},
   "outputs": [
    {
     "data": {
      "text/plain": [
       "'Welcome to kiit'"
      ]
     },
     "execution_count": 19,
     "metadata": {},
     "output_type": "execute_result"
    }
   ],
   "source": [
    "x.capitalize() #only 1st letter capital"
   ]
  },
  {
   "cell_type": "code",
   "execution_count": 20,
   "id": "56b3eed5-d6f8-472d-bc8f-8a7e47152a5f",
   "metadata": {},
   "outputs": [
    {
     "data": {
      "text/plain": [
       "'Welcome to KiiT'"
      ]
     },
     "execution_count": 20,
     "metadata": {},
     "output_type": "execute_result"
    }
   ],
   "source": [
    "x"
   ]
  },
  {
   "cell_type": "code",
   "execution_count": 21,
   "id": "8e1bb67b-cee7-4a9f-a42c-10526a180333",
   "metadata": {},
   "outputs": [
    {
     "data": {
      "text/plain": [
       "'welcome to kiit'"
      ]
     },
     "execution_count": 21,
     "metadata": {},
     "output_type": "execute_result"
    }
   ],
   "source": [
    "x.lower()"
   ]
  },
  {
   "cell_type": "code",
   "execution_count": 22,
   "id": "c2d08099-7bd3-40ff-b492-ce76d160479d",
   "metadata": {},
   "outputs": [
    {
     "data": {
      "text/plain": [
       "'Welcome to KiiT'"
      ]
     },
     "execution_count": 22,
     "metadata": {},
     "output_type": "execute_result"
    }
   ],
   "source": [
    "x"
   ]
  },
  {
   "cell_type": "code",
   "execution_count": 23,
   "id": "53e31dfa-dbfc-4dac-9a25-6fac12cf2f7c",
   "metadata": {},
   "outputs": [],
   "source": [
    "# Indexing"
   ]
  },
  {
   "cell_type": "code",
   "execution_count": 24,
   "id": "dc90e011-a1e8-43ad-9a65-9852a6cb5e29",
   "metadata": {},
   "outputs": [
    {
     "data": {
      "text/plain": [
       "'W'"
      ]
     },
     "execution_count": 24,
     "metadata": {},
     "output_type": "execute_result"
    }
   ],
   "source": [
    "x[0]"
   ]
  },
  {
   "cell_type": "code",
   "execution_count": 25,
   "id": "9e7bf835-0c65-4bc7-9950-72d16d87a3d7",
   "metadata": {},
   "outputs": [
    {
     "data": {
      "text/plain": [
       "'e'"
      ]
     },
     "execution_count": 25,
     "metadata": {},
     "output_type": "execute_result"
    }
   ],
   "source": [
    "x[1]"
   ]
  },
  {
   "cell_type": "code",
   "execution_count": 26,
   "id": "b5b3bb43-563b-4564-a5d0-3d72f69efabf",
   "metadata": {},
   "outputs": [
    {
     "data": {
      "text/plain": [
       "'T'"
      ]
     },
     "execution_count": 26,
     "metadata": {},
     "output_type": "execute_result"
    }
   ],
   "source": [
    "x[-1]"
   ]
  },
  {
   "cell_type": "code",
   "execution_count": 30,
   "id": "386b98b0-10f8-4b66-b7a0-1b054d7d7201",
   "metadata": {},
   "outputs": [
    {
     "data": {
      "text/plain": [
       "'c'"
      ]
     },
     "execution_count": 30,
     "metadata": {},
     "output_type": "execute_result"
    }
   ],
   "source": [
    "x[3]"
   ]
  },
  {
   "cell_type": "code",
   "execution_count": 31,
   "id": "0d15771a-38d9-44b3-8b70-e847d15e25d0",
   "metadata": {},
   "outputs": [
    {
     "ename": "TypeError",
     "evalue": "'str' object does not support item assignment",
     "output_type": "error",
     "traceback": [
      "\u001b[1;31m---------------------------------------------------------------------------\u001b[0m",
      "\u001b[1;31mTypeError\u001b[0m                                 Traceback (most recent call last)",
      "Cell \u001b[1;32mIn[31], line 1\u001b[0m\n\u001b[1;32m----> 1\u001b[0m \u001b[43mx\u001b[49m\u001b[43m[\u001b[49m\u001b[38;5;241;43m3\u001b[39;49m\u001b[43m]\u001b[49m \u001b[38;5;241m=\u001b[39m \u001b[38;5;124m'\u001b[39m\u001b[38;5;124mk\u001b[39m\u001b[38;5;124m'\u001b[39m\n",
      "\u001b[1;31mTypeError\u001b[0m: 'str' object does not support item assignment"
     ]
    }
   ],
   "source": [
    "x[3] = 'k'"
   ]
  },
  {
   "cell_type": "code",
   "execution_count": 32,
   "id": "152216ea-550b-4af7-b848-f47cd83e8728",
   "metadata": {},
   "outputs": [],
   "source": [
    "# strings are Immutable-Read only"
   ]
  },
  {
   "cell_type": "code",
   "execution_count": 33,
   "id": "19e319bc-d54f-4252-9f0e-66b8d6d24de7",
   "metadata": {},
   "outputs": [],
   "source": [
    "#print all the characters from c till k of x"
   ]
  },
  {
   "cell_type": "code",
   "execution_count": 34,
   "id": "a64c4656-1ccc-42d6-9163-d263dd1ed0f2",
   "metadata": {},
   "outputs": [
    {
     "data": {
      "text/plain": [
       "'Welcome to KiiT'"
      ]
     },
     "execution_count": 34,
     "metadata": {},
     "output_type": "execute_result"
    }
   ],
   "source": [
    "x"
   ]
  },
  {
   "cell_type": "code",
   "execution_count": 35,
   "id": "45fa4511-9e0c-4e7c-b075-59a8476d6ff5",
   "metadata": {},
   "outputs": [
    {
     "data": {
      "text/plain": [
       "'lcom'"
      ]
     },
     "execution_count": 35,
     "metadata": {},
     "output_type": "execute_result"
    }
   ],
   "source": [
    "x[2:6]"
   ]
  },
  {
   "cell_type": "code",
   "execution_count": 36,
   "id": "26790dbc-130b-499c-ae1c-fc6318b8305e",
   "metadata": {},
   "outputs": [
    {
     "data": {
      "text/plain": [
       "'me '"
      ]
     },
     "execution_count": 36,
     "metadata": {},
     "output_type": "execute_result"
    }
   ],
   "source": [
    "x[5:8]"
   ]
  },
  {
   "cell_type": "code",
   "execution_count": 37,
   "id": "fefbfcf1-5ac8-4788-84b2-5c599e86d0cd",
   "metadata": {},
   "outputs": [
    {
     "data": {
      "text/plain": [
       "'ome to KiiT'"
      ]
     },
     "execution_count": 37,
     "metadata": {},
     "output_type": "execute_result"
    }
   ],
   "source": [
    "x[4:]"
   ]
  },
  {
   "cell_type": "code",
   "execution_count": 38,
   "id": "36eb89dd-7ecb-4c2a-8fbe-14282b7d24f3",
   "metadata": {},
   "outputs": [
    {
     "data": {
      "text/plain": [
       "'Welc'"
      ]
     },
     "execution_count": 38,
     "metadata": {},
     "output_type": "execute_result"
    }
   ],
   "source": [
    "x[:4]"
   ]
  },
  {
   "cell_type": "code",
   "execution_count": 39,
   "id": "99ffdc6b-823d-4406-a2c8-753c3ab64688",
   "metadata": {},
   "outputs": [
    {
     "data": {
      "text/plain": [
       "'K'"
      ]
     },
     "execution_count": 39,
     "metadata": {},
     "output_type": "execute_result"
    }
   ],
   "source": [
    "x[-4]"
   ]
  },
  {
   "cell_type": "code",
   "execution_count": 41,
   "id": "cdb14e1c-7d80-4dc9-9bdd-6340aa7826ce",
   "metadata": {},
   "outputs": [
    {
     "name": "stdout",
     "output_type": "stream",
     "text": [
      "<class 'NoneType'>\n"
     ]
    }
   ],
   "source": [
    "p=None\n",
    "print(type(p))"
   ]
  },
  {
   "cell_type": "code",
   "execution_count": 44,
   "id": "11795639-af3c-46b1-84cc-556b2890ebb9",
   "metadata": {},
   "outputs": [
    {
     "data": {
      "text/plain": [
       "'\\n1. int\\n2. float\\n3. bool\\n4. str\\n5. NoneType\\n'"
      ]
     },
     "execution_count": 44,
     "metadata": {},
     "output_type": "execute_result"
    }
   ],
   "source": [
    "'''\n",
    "1. int\n",
    "2. float\n",
    "3. bool\n",
    "4. str\n",
    "5. NoneType\n",
    "'''"
   ]
  },
  {
   "cell_type": "code",
   "execution_count": 45,
   "id": "90aa290c-da34-4791-bb99-80c907185334",
   "metadata": {},
   "outputs": [],
   "source": [
    "a,b,c,d,e=20,20.9,6>8, \"T&T Lab\", None"
   ]
  },
  {
   "cell_type": "code",
   "execution_count": 46,
   "id": "f1ce2691-3048-4e4f-b857-96d552c7f44e",
   "metadata": {},
   "outputs": [
    {
     "name": "stdout",
     "output_type": "stream",
     "text": [
      "<class 'int'> <class 'float'> <class 'bool'> <class 'str'> <class 'NoneType'>\n"
     ]
    }
   ],
   "source": [
    "print(type(a), type(b), type(c), type(d), type(e))"
   ]
  },
  {
   "cell_type": "code",
   "execution_count": 48,
   "id": "26178130-3c5a-48f7-b265-c506660ae2c6",
   "metadata": {},
   "outputs": [
    {
     "name": "stdout",
     "output_type": "stream",
     "text": [
      "Python 3.10.11\n"
     ]
    }
   ],
   "source": [
    "#check version of python\n",
    "!python --version"
   ]
  },
  {
   "cell_type": "code",
   "execution_count": 49,
   "id": "e75a9b4b-1f55-44cf-bc26-51a55adf6f60",
   "metadata": {},
   "outputs": [],
   "source": [
    "teacher=\"Sarita\"\n",
    "sub=\"TTL\"\n",
    "dept=\"cse-32\"\n",
    "students=80"
   ]
  },
  {
   "cell_type": "code",
   "execution_count": 51,
   "id": "a095d5de-896f-45a2-b1db-a3823480f22c",
   "metadata": {},
   "outputs": [
    {
     "name": "stdout",
     "output_type": "stream",
     "text": [
      "I am Sarita teaching TTL in cse-32 with 80 students\n"
     ]
    }
   ],
   "source": [
    "print(\"I am {} teaching {} in {} with {} students\".format(teacher,sub,dept,students))"
   ]
  },
  {
   "cell_type": "code",
   "execution_count": null,
   "id": "9447c026-e4e4-4a86-be6d-67036937f443",
   "metadata": {},
   "outputs": [],
   "source": []
  }
 ],
 "metadata": {
  "kernelspec": {
   "display_name": "Python 3 (ipykernel)",
   "language": "python",
   "name": "python3"
  },
  "language_info": {
   "codemirror_mode": {
    "name": "ipython",
    "version": 3
   },
   "file_extension": ".py",
   "mimetype": "text/x-python",
   "name": "python",
   "nbconvert_exporter": "python",
   "pygments_lexer": "ipython3",
   "version": "3.10.11"
  }
 },
 "nbformat": 4,
 "nbformat_minor": 5
}
