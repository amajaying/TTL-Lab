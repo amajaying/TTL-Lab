{
 "cells": [
  {
   "cell_type": "code",
   "execution_count": 2,
   "id": "5c3c1d5b-8fdb-43a3-b680-2a3f00da6419",
   "metadata": {},
   "outputs": [
    {
     "name": "stdout",
     "output_type": "stream",
     "text": [
      "invoking function defined with def keyword:\n",
      "Finding cube of number:30\n",
      "27000\n",
      "invoking lambda function: 27000\n"
     ]
    }
   ],
   "source": [
    "def cube(y):\n",
    "    print(f\"Finding cube of number:{y}\")\n",
    "    return y * y * y\n",
    "lambda_cube = lambda num: num ** 3\n",
    "# invoking simple function\n",
    "print(\"invoking function defined with def keyword:\")\n",
    "print(cube(30))\n",
    "# invoking lambda function\n",
    "print(\"invoking lambda function:\",\n",
    "lambda_cube(30))"
   ]
  },
  {
   "cell_type": "code",
   "execution_count": 4,
   "id": "9b71b1f1-b5d1-4001-87d1-d176b7b2f174",
   "metadata": {},
   "outputs": [
    {
     "name": "stdout",
     "output_type": "stream",
     "text": [
      "[2, 4, 6, 8]\n"
     ]
    }
   ],
   "source": [
    "# Python program to demonstrate working of map.\n",
    "\n",
    "def addition(n):\n",
    "    return n + n\n",
    "numbers = (1, 2, 3, 4)\n",
    "result = map(addition, numbers)\n",
    "print(list(result))"
   ]
  },
  {
   "cell_type": "code",
   "execution_count": 5,
   "id": "0c43f98f-61b3-4e0a-8cf9-3d1af4a746f2",
   "metadata": {},
   "outputs": [
    {
     "name": "stdout",
     "output_type": "stream",
     "text": [
      "[2, 4, 6, 8]\n"
     ]
    }
   ],
   "source": [
    "numbers = (1, 2, 3, 4)\n",
    "result = map(lambda x: x + x, numbers)\n",
    "print(list(result))"
   ]
  },
  {
   "cell_type": "code",
   "execution_count": 6,
   "id": "c2132329-9501-46bf-af6d-bfac046f9735",
   "metadata": {},
   "outputs": [
    {
     "name": "stdout",
     "output_type": "stream",
     "text": [
      "The filtered letters are:\n",
      "e\n",
      "e\n"
     ]
    }
   ],
   "source": [
    "# function that filters vowels\n",
    "def fun(variable):\n",
    "    letters = ['a', 'e', 'i', 'o', 'u']\n",
    "    if (variable in letters):\n",
    "        return True\n",
    "    else:\n",
    "        return False\n",
    "# sequence\n",
    "sequence = ['g', 'e', 'e', 'j', 'k', 's', 'p','r']\n",
    "\n",
    "# using filter function\n",
    "filtered = filter(fun, sequence)\n",
    "\n",
    "print('The filtered letters are:')\n",
    "for s in filtered:\n",
    "    print(s)"
   ]
  },
  {
   "cell_type": "code",
   "execution_count": 7,
   "id": "f51433cb-d8ef-40a9-9648-243cd13af33c",
   "metadata": {},
   "outputs": [
    {
     "name": "stdout",
     "output_type": "stream",
     "text": [
      "[1, 3, 5, 13]\n",
      "[0, 2, 8]\n"
     ]
    }
   ],
   "source": [
    "# a list contains both even and odd numbers.\n",
    "\n",
    "seq = [0, 1, 2, 3, 5, 8, 13]\n",
    "\n",
    "# result contains odd numbers of the list\n",
    "\n",
    "result = filter(lambda x: x % 2 != 0, seq)\n",
    "print(list(result))\n",
    "\n",
    "# result contains even numbers of the list\n",
    "\n",
    "result = filter(lambda x: x % 2 == 0,seq)\n",
    "print(list(result))"
   ]
  },
  {
   "cell_type": "code",
   "execution_count": 8,
   "id": "a92cbd9a-b9d1-463e-a71a-bb34ea088668",
   "metadata": {},
   "outputs": [
    {
     "name": "stdout",
     "output_type": "stream",
     "text": [
      "[1, 2, 3, 4]\n",
      "[4, 3, 2, 1]\n"
     ]
    }
   ],
   "source": [
    "x=[4, 1, 3, 2]\n",
    "print(sorted(x))\n",
    "print(sorted(x,reverse=True))"
   ]
  },
  {
   "cell_type": "code",
   "execution_count": 9,
   "id": "73a5a443-d74a-47a0-94c5-19bcf2f3da38",
   "metadata": {},
   "outputs": [
    {
     "name": "stdout",
     "output_type": "stream",
     "text": [
      "['date', 'apple', 'banana', 'cherry', 'elderberry']\n",
      "['elderberry', 'banana', 'cherry', 'apple', 'date']\n"
     ]
    }
   ],
   "source": [
    "#sort list of words according to length of words using lambda function\n",
    "words = [\"apple\", \"banana\", \"cherry\", \"date\", \"elderberry\"]\n",
    "sorted_words = sorted(words, key=lambda x: len(x))\n",
    "print(sorted_words)\n",
    "sorted_words = sorted(words, key=lambda x: len(x),\n",
    "reverse=True)\n",
    "print(sorted_words)"
   ]
  },
  {
   "cell_type": "code",
   "execution_count": 15,
   "id": "c7c52471-7a5f-4282-9aec-1460bb0141ce",
   "metadata": {},
   "outputs": [
    {
     "ename": "TypeError",
     "evalue": "add() takes 0 positional arguments but 2 were given",
     "output_type": "error",
     "traceback": [
      "\u001b[1;31m---------------------------------------------------------------------------\u001b[0m",
      "\u001b[1;31mTypeError\u001b[0m                                 Traceback (most recent call last)",
      "Cell \u001b[1;32mIn[15], line 3\u001b[0m\n\u001b[0;32m      1\u001b[0m \u001b[38;5;66;03m# importing module calc.py\u001b[39;00m\n\u001b[0;32m      2\u001b[0m \u001b[38;5;28;01mimport\u001b[39;00m \u001b[38;5;21;01mcalc\u001b[39;00m\n\u001b[1;32m----> 3\u001b[0m \u001b[38;5;28mprint\u001b[39m(\u001b[43mcalc\u001b[49m\u001b[38;5;241;43m.\u001b[39;49m\u001b[43madd\u001b[49m\u001b[43m(\u001b[49m\u001b[38;5;241;43m10\u001b[39;49m\u001b[43m,\u001b[49m\u001b[43m \u001b[49m\u001b[38;5;241;43m2\u001b[39;49m\u001b[43m)\u001b[49m)\n",
      "\u001b[1;31mTypeError\u001b[0m: add() takes 0 positional arguments but 2 were given"
     ]
    }
   ],
   "source": [
    "# importing module calc.py\n",
    "import calc\n",
    "print(calc.add(10, 2))"
   ]
  },
  {
   "cell_type": "code",
   "execution_count": 17,
   "id": "254ec3f6-dd89-45a7-bbfb-24ba1486bcdf",
   "metadata": {},
   "outputs": [
    {
     "name": "stdout",
     "output_type": "stream",
     "text": [
      "Hello my name is Ajay and I am from CSE.\n"
     ]
    }
   ],
   "source": [
    "class Student:\n",
    "    def __init__(somename, name, branch):\n",
    "        somename.name = name\n",
    "        somename.branch = branch\n",
    "    def show(somename):\n",
    "        print(\"Hello my name is \" + somename.name + \" and I am from \"+somename.branch+\".\")\n",
    "obj = Student(\"Ajay\", \"CSE\")\n",
    "obj.show()"
   ]
  },
  {
   "cell_type": "code",
   "execution_count": 19,
   "id": "ecfb5490-bf36-42d6-839b-990cfc7fdb6c",
   "metadata": {},
   "outputs": [
    {
     "name": "stdout",
     "output_type": "stream",
     "text": [
      "Hello, my name is Ajay\n"
     ]
    }
   ],
   "source": [
    "# Sample class with init method\n",
    "class Person:\n",
    "    # init method or constructor\n",
    "    def __init__(self, name):\n",
    "        self.name = name\n",
    "        \n",
    "    # Sample Method\n",
    "    def say_hi(self):\n",
    "        print('Hello, my name is', self.name)\n",
    "p = Person('Ajay')\n",
    "p.say_hi()"
   ]
  },
  {
   "cell_type": "code",
   "execution_count": 20,
   "id": "bd7afac9-5a69-40a5-9985-b9e74732e70c",
   "metadata": {},
   "outputs": [],
   "source": [
    "# Assignment 5 starts here"
   ]
  },
  {
   "cell_type": "code",
   "execution_count": 21,
   "id": "fd0f1600-c1c5-4a65-8b9b-c704bfab7dbd",
   "metadata": {},
   "outputs": [
    {
     "name": "stdin",
     "output_type": "stream",
     "text": [
      "Enter name of student 1:  Ajay\n",
      "Enter marks for subject 1:  80\n",
      "Enter marks for subject 2:  86\n",
      "Enter marks for subject 3:  90\n",
      "Enter name of student 2:  Unik\n",
      "Enter marks for subject 1:  78\n",
      "Enter marks for subject 2:  77\n",
      "Enter marks for subject 3:  91\n"
     ]
    },
    {
     "name": "stdout",
     "output_type": "stream",
     "text": [
      "\n",
      "Student 1 Information:\n",
      "Name: Ajay\n",
      "Marks in three subjects:\n",
      "Subject 1: 80\n",
      "Subject 2: 86\n",
      "Subject 3: 90\n",
      "\n",
      "Student 2 Information:\n",
      "Name: Unik\n",
      "Marks in three subjects:\n",
      "Subject 1: 78\n",
      "Subject 2: 77\n",
      "Subject 3: 91\n"
     ]
    }
   ],
   "source": [
    "# WAP in python that uses class to store the name and marks of the students. Use list to store the marks in three subjects.\n",
    "\n",
    "class Student:\n",
    "    def __init__(self, name, marks):\n",
    "        self.name = name\n",
    "        self.marks = marks\n",
    "\n",
    "    def display_info(self):\n",
    "        print(f\"Name: {self.name}\")\n",
    "        print(\"Marks in three subjects:\")\n",
    "        for i, mark in enumerate(self.marks, start=1):\n",
    "            print(f\"Subject {i}: {mark}\")\n",
    "\n",
    "students = []\n",
    "\n",
    "name1 = input(\"Enter name of student 1: \")\n",
    "marks1 = [int(input(\"Enter marks for subject 1: \")),\n",
    "          int(input(\"Enter marks for subject 2: \")),\n",
    "          int(input(\"Enter marks for subject 3: \"))]\n",
    "\n",
    "student1 = Student(name1, marks1)\n",
    "students.append(student1)\n",
    "\n",
    "name2 = input(\"Enter name of student 2: \")\n",
    "marks2 = [int(input(\"Enter marks for subject 1: \")),\n",
    "          int(input(\"Enter marks for subject 2: \")),\n",
    "          int(input(\"Enter marks for subject 3: \"))]\n",
    "\n",
    "student2 = Student(name2, marks2)\n",
    "students.append(student2)\n",
    "\n",
    "for i, student in enumerate(students, start=1):\n",
    "    print(f\"\\nStudent {i} Information:\")\n",
    "    student.display_info()\n"
   ]
  },
  {
   "cell_type": "code",
   "execution_count": 22,
   "id": "68c859f1-87bb-46f6-8721-e69d41eb5abc",
   "metadata": {},
   "outputs": [
    {
     "name": "stdin",
     "output_type": "stream",
     "text": [
      "Enter name of employee 1:  Unik\n",
      "Enter designation of employee 1:  P.A.\n",
      "Enter salary of employee 1:  80000\n",
      "Enter name of employee 2:  Aayush\n",
      "Enter designation of employee 2:  Sweeper\n",
      "Enter salary of employee 2:  100000\n"
     ]
    },
    {
     "name": "stdout",
     "output_type": "stream",
     "text": [
      "\n",
      "Employee 1 Information:\n",
      "Employee Name: Unik\n",
      "Designation: P.A.\n",
      "Salary: 80000.0\n",
      "\n",
      "Employee 2 Information:\n",
      "Employee Name: Aayush\n",
      "Designation: Sweeper\n",
      "Salary: 100000.0\n",
      "\n",
      "Total number of employees: 2\n"
     ]
    }
   ],
   "source": [
    "# WAP in python with class Employee that keeps a track of the number of employees in an organization and also stores their name, designation and salary details.\n",
    "\n",
    "class Employee:\n",
    "    total_employees = 0\n",
    "\n",
    "    def __init__(self, name, designation, salary):\n",
    "        self.name = name\n",
    "        self.designation = designation\n",
    "        self.salary = salary\n",
    "\n",
    "        Employee.total_employees += 1\n",
    "\n",
    "    def display_info(self):\n",
    "        print(f\"Employee Name: {self.name}\")\n",
    "        print(f\"Designation: {self.designation}\")\n",
    "        print(f\"Salary: {self.salary}\")\n",
    "\n",
    "employees = []\n",
    "\n",
    "name1 = input(\"Enter name of employee 1: \")\n",
    "designation1 = input(\"Enter designation of employee 1: \")\n",
    "salary1 = float(input(\"Enter salary of employee 1: \"))\n",
    "\n",
    "employee1 = Employee(name1, designation1, salary1)\n",
    "employees.append(employee1)\n",
    "\n",
    "name2 = input(\"Enter name of employee 2: \")\n",
    "designation2 = input(\"Enter designation of employee 2: \")\n",
    "salary2 = float(input(\"Enter salary of employee 2: \"))\n",
    "\n",
    "employee2 = Employee(name2, designation2, salary2)\n",
    "employees.append(employee2)\n",
    "\n",
    "for i, employee in enumerate(employees, start=1):\n",
    "    print(f\"\\nEmployee {i} Information:\")\n",
    "    employee.display_info()\n",
    "\n",
    "print(f\"\\nTotal number of employees: {Employee.total_employees}\")"
   ]
  },
  {
   "cell_type": "code",
   "execution_count": 23,
   "id": "57df7fd5-ed5d-43b6-a362-232a8839ab56",
   "metadata": {},
   "outputs": [
    {
     "name": "stdin",
     "output_type": "stream",
     "text": [
      "Enter name:  Ajay\n",
      "Enter date of birth (YYYY-MM-DD):  2003-01-15\n"
     ]
    },
    {
     "name": "stdout",
     "output_type": "stream",
     "text": [
      "Ajay is eligible to vote.\n"
     ]
    }
   ],
   "source": [
    "# WAP in python that has a class Person storing name and date of birth of a person. The program should subtract the date of birth from today’s date to find out that the person is eligible to vote or not.\n",
    "\n",
    "from datetime import datetime, timedelta\n",
    "\n",
    "class Person:\n",
    "    def __init__(self, name, dob):\n",
    "        self.name = name\n",
    "        self.dob = dob\n",
    "\n",
    "    def calculate_age(self):\n",
    "        dob_date = datetime.strptime(self.dob, \"%Y-%m-%d\")\n",
    "        today_date = datetime.now()\n",
    "        age = today_date.year - dob_date.year - ((today_date.month, today_date.day) < (dob_date.month, dob_date.day))\n",
    "\n",
    "        return age\n",
    "\n",
    "    def check_voting_eligibility(self):\n",
    "        age = self.calculate_age()\n",
    "\n",
    "        if age >= 18:\n",
    "            print(f\"{self.name} is eligible to vote.\")\n",
    "        else:\n",
    "            print(f\"{self.name} is not eligible to vote yet. Eligible in {18 - age} years.\")\n",
    "\n",
    "name = input(\"Enter name: \")\n",
    "dob = input(\"Enter date of birth (YYYY-MM-DD): \")\n",
    "\n",
    "person = Person(name, dob)\n",
    "person.check_voting_eligibility()\n"
   ]
  },
  {
   "cell_type": "code",
   "execution_count": 24,
   "id": "9bce3ae1-2a71-44a1-8262-a6e039693467",
   "metadata": {},
   "outputs": [
    {
     "name": "stdin",
     "output_type": "stream",
     "text": [
      "Enter the radius of the circle:  5\n"
     ]
    },
    {
     "name": "stdout",
     "output_type": "stream",
     "text": [
      "Area of the circle: 78.50 square units\n",
      "Circumference of the circle: 31.40 units\n"
     ]
    }
   ],
   "source": [
    "# WAP in python that has a class Circle. Use a class variable that defines the value of constant Pie value=3.14. Use this class variable to calculate the area and circumference of the circle with specified radius.\n",
    "\n",
    "class Circle:\n",
    "    pi = 3.14\n",
    "\n",
    "    def __init__(self, radius):\n",
    "        self.radius = radius\n",
    "\n",
    "    def calculate_area(self):\n",
    "        area = Circle.pi * (self.radius ** 2)\n",
    "        return area\n",
    "\n",
    "    def calculate_circumference(self):\n",
    "        circumference = 2 * Circle.pi * self.radius\n",
    "        return circumference\n",
    "\n",
    "radius = float(input(\"Enter the radius of the circle: \"))\n",
    "\n",
    "circle = Circle(radius)\n",
    "area = circle.calculate_area()\n",
    "circumference = circle.calculate_circumference()\n",
    "\n",
    "print(f\"Area of the circle: {area:.2f} square units\")\n",
    "print(f\"Circumference of the circle: {circumference:.2f} units\")"
   ]
  },
  {
   "cell_type": "code",
   "execution_count": 25,
   "id": "aff7ec99-e9df-428d-966e-53ac02fa99c0",
   "metadata": {},
   "outputs": [
    {
     "name": "stdin",
     "output_type": "stream",
     "text": [
      "Enter name of student 1:  Unik\n",
      "Enter roll number of student 1:  21052959\n",
      "Enter marks for subject 1:  50\n",
      "Enter marks for subject 2:  50\n",
      "Enter marks for subject 3:  50\n",
      "Enter name of student 2:  Ajay\n",
      "Enter roll number of student 2:  21053264\n",
      "Enter marks for subject 1:  89\n",
      "Enter marks for subject 2:  98\n",
      "Enter marks for subject 3:  88\n"
     ]
    },
    {
     "name": "stdout",
     "output_type": "stream",
     "text": [
      "\n",
      "Information for Student 1:\n",
      "\n",
      "Student Name: Unik\n",
      "Roll Number: 21052959\n",
      "Marks in three subjects: 50, 50, 50\n",
      "Total Marks: 150\n",
      "\n",
      "Information for Student 2:\n",
      "\n",
      "Student Name: Ajay\n",
      "Roll Number: 21053264\n",
      "Marks in three subjects: 89, 98, 88\n",
      "Total Marks: 275\n"
     ]
    }
   ],
   "source": [
    "# WAP in python that has a class Student that stores the name,roll no, marks(in three subjects). And display the information(name, roll no, total marks) stored about the students.\n",
    "\n",
    "class Student:\n",
    "    def __init__(self, name, roll_no, marks):\n",
    "        self.name = name\n",
    "        self.roll_no = roll_no\n",
    "        self.marks = marks\n",
    "\n",
    "    def calculate_total_marks(self):\n",
    "        total_marks = sum(self.marks)\n",
    "        return total_marks\n",
    "\n",
    "    def display_info(self):\n",
    "        print(f\"\\nStudent Name: {self.name}\")\n",
    "        print(f\"Roll Number: {self.roll_no}\")\n",
    "        print(f\"Marks in three subjects: {', '.join(map(str, self.marks))}\")\n",
    "        print(f\"Total Marks: {self.calculate_total_marks()}\")\n",
    "\n",
    "students = []\n",
    "\n",
    "name1 = input(\"Enter name of student 1: \")\n",
    "roll_no1 = input(\"Enter roll number of student 1: \")\n",
    "marks1 = [int(input(\"Enter marks for subject 1: \")),\n",
    "          int(input(\"Enter marks for subject 2: \")),\n",
    "          int(input(\"Enter marks for subject 3: \"))]\n",
    "\n",
    "student1 = Student(name1, roll_no1, marks1)\n",
    "students.append(student1)\n",
    "\n",
    "name2 = input(\"Enter name of student 2: \")\n",
    "roll_no2 = input(\"Enter roll number of student 2: \")\n",
    "marks2 = [int(input(\"Enter marks for subject 1: \")),\n",
    "          int(input(\"Enter marks for subject 2: \")),\n",
    "          int(input(\"Enter marks for subject 3: \"))]\n",
    "\n",
    "student2 = Student(name2, roll_no2, marks2)\n",
    "students.append(student2)\n",
    "\n",
    "for i, student in enumerate(students, start=1):\n",
    "    print(f\"\\nInformation for Student {i}:\")\n",
    "    student.display_info()"
   ]
  },
  {
   "cell_type": "code",
   "execution_count": null,
   "id": "f3e44589-f25e-4f01-8c21-d31573744235",
   "metadata": {},
   "outputs": [],
   "source": []
  }
 ],
 "metadata": {
  "kernelspec": {
   "display_name": "Python 3 (ipykernel)",
   "language": "python",
   "name": "python3"
  },
  "language_info": {
   "codemirror_mode": {
    "name": "ipython",
    "version": 3
   },
   "file_extension": ".py",
   "mimetype": "text/x-python",
   "name": "python",
   "nbconvert_exporter": "python",
   "pygments_lexer": "ipython3",
   "version": "3.10.11"
  }
 },
 "nbformat": 4,
 "nbformat_minor": 5
}
