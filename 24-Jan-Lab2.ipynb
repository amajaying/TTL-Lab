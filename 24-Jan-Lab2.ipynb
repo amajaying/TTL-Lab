{
 "cells": [
  {
   "cell_type": "code",
   "execution_count": 1,
   "id": "d4e34811-796c-4b88-9d63-cfa7fdd85d57",
   "metadata": {},
   "outputs": [],
   "source": [
    "# Control Statements in Python"
   ]
  },
  {
   "cell_type": "code",
   "execution_count": 2,
   "id": "ba9e372f-209b-4c68-865f-02aa5b7db19f",
   "metadata": {},
   "outputs": [
    {
     "name": "stdout",
     "output_type": "stream",
     "text": [
      "10 is less than 20\n",
      "End of Program\n"
     ]
    }
   ],
   "source": [
    "if 10<20:\n",
    "    print('10 is less than 20')\n",
    "print('End of Program')"
   ]
  },
  {
   "cell_type": "code",
   "execution_count": 3,
   "id": "95a9ca68-5640-4da4-b02d-3306ea77ee6d",
   "metadata": {},
   "outputs": [
    {
     "ename": "IndentationError",
     "evalue": "expected an indented block after 'if' statement on line 1 (1593235995.py, line 2)",
     "output_type": "error",
     "traceback": [
      "\u001b[1;36m  Cell \u001b[1;32mIn[3], line 2\u001b[1;36m\u001b[0m\n\u001b[1;33m    print('10 is less than 20')\u001b[0m\n\u001b[1;37m    ^\u001b[0m\n\u001b[1;31mIndentationError\u001b[0m\u001b[1;31m:\u001b[0m expected an indented block after 'if' statement on line 1\n"
     ]
    }
   ],
   "source": [
    "if 10<20:\n",
    "print('10 is less than 20')\n",
    "print('End of Program')"
   ]
  },
  {
   "cell_type": "code",
   "execution_count": 4,
   "id": "f51c44f7-c448-4b76-9b37-281c244fdce7",
   "metadata": {},
   "outputs": [
    {
     "name": "stdin",
     "output_type": "stream",
     "text": [
      "Enter Name:  Karthi\n"
     ]
    },
    {
     "name": "stdout",
     "output_type": "stream",
     "text": [
      "Hello Karthi Good Morning\n",
      "How are you!!!\n"
     ]
    }
   ],
   "source": [
    "name=input(\"Enter Name: \")\n",
    "if name==\"Karthi\":\n",
    "    print(\"Hello Karthi Good Morning\")\n",
    "print(\"How are you!!!\")"
   ]
  },
  {
   "cell_type": "code",
   "execution_count": 5,
   "id": "be8ca1da-1e76-4ecb-b702-52c91c57d183",
   "metadata": {},
   "outputs": [
    {
     "name": "stdin",
     "output_type": "stream",
     "text": [
      "Enter Name: ravi\n"
     ]
    },
    {
     "name": "stdout",
     "output_type": "stream",
     "text": [
      "How are you!!!\n"
     ]
    }
   ],
   "source": [
    "name=input(\"Enter Name:\")\n",
    "if name==\"Karthi\":\n",
    "    print(\"Hello Karthi Good Morning\")\n",
    "print(\"How are you!!!\")                                            "
   ]
  },
  {
   "cell_type": "code",
   "execution_count": 6,
   "id": "394385d8-f819-4449-a4a7-813ca401f3c4",
   "metadata": {},
   "outputs": [
    {
     "name": "stdin",
     "output_type": "stream",
     "text": [
      "Enter Name:  Karthi\n"
     ]
    },
    {
     "name": "stdout",
     "output_type": "stream",
     "text": [
      "Hello Karthi! Good Morning\n",
      "How are you?\n"
     ]
    }
   ],
   "source": [
    "name = input('Enter Name: ')\n",
    "if name == 'Karthi':\n",
    "    print('Hello Karthi! Good Morning')\n",
    "else:\n",
    "    print('Hello Guest! Good Morning')\n",
    "print('How are you?')"
   ]
  },
  {
   "cell_type": "code",
   "execution_count": 7,
   "id": "ef0ea34d-7741-4bb2-bf7a-19c680c5f02c",
   "metadata": {},
   "outputs": [
    {
     "name": "stdin",
     "output_type": "stream",
     "text": [
      "Enter Name:  ajay\n"
     ]
    },
    {
     "name": "stdout",
     "output_type": "stream",
     "text": [
      "Hello Guest! Good Morning\n",
      "How are you?\n"
     ]
    }
   ],
   "source": [
    "name = input('Enter Name: ')\n",
    "if name == 'Karthi':\n",
    "    print('Hello Karthi! Good Morning')\n",
    "else:\n",
    "    print('Hello Guest! Good Morning')\n",
    "print('How are you?')"
   ]
  },
  {
   "cell_type": "code",
   "execution_count": 8,
   "id": "0fef77eb-9ed4-41cb-a6f3-51c893d7cf27",
   "metadata": {},
   "outputs": [],
   "source": [
    "# Questions"
   ]
  },
  {
   "cell_type": "code",
   "execution_count": 9,
   "id": "dc729fb6-b46f-4ba7-b349-2978b5790e4d",
   "metadata": {},
   "outputs": [
    {
     "name": "stdin",
     "output_type": "stream",
     "text": [
      "Enter a number:  2\n",
      "Enter another number:  3\n"
     ]
    },
    {
     "name": "stdout",
     "output_type": "stream",
     "text": [
      "3 is biggest!\n"
     ]
    }
   ],
   "source": [
    "# 1. WAP to find biggest of given 2 numbers\n",
    "\n",
    "a = input('Enter a number: ')\n",
    "b = input('Enter another number: ')\n",
    "if a>b:\n",
    "    print(\"{} is biggest!\".format(a))\n",
    "else:\n",
    "    print(\"{} is biggest!\".format(b))"
   ]
  },
  {
   "cell_type": "code",
   "execution_count": 13,
   "id": "736107ff-610c-4a50-8da7-0d20ac8b9da4",
   "metadata": {},
   "outputs": [
    {
     "name": "stdin",
     "output_type": "stream",
     "text": [
      "Enter a number:  1\n",
      "Enter another number:  2\n",
      "Again, enter another number:  3\n"
     ]
    },
    {
     "name": "stdout",
     "output_type": "stream",
     "text": [
      "3 is biggest!\n"
     ]
    }
   ],
   "source": [
    "# 2. WAP to find biggest of given 3 numbers\n",
    "\n",
    "a = input('Enter a number: ')\n",
    "b = input('Enter another number: ')\n",
    "c = input('Again, enter another number: ')\n",
    "if a>b and a>c:\n",
    "    print(\"{} is biggest!\".format(a))\n",
    "elif b>a and b>c:\n",
    "    print(\"{} is biggest!\".format(b))\n",
    "else:\n",
    "    print(\"{} is biggest!\".format(c))"
   ]
  },
  {
   "cell_type": "code",
   "execution_count": 15,
   "id": "4bf9d19e-d453-4741-b969-434012657767",
   "metadata": {},
   "outputs": [
    {
     "name": "stdin",
     "output_type": "stream",
     "text": [
      "Enter a number:  1\n",
      "Enter another number:  2\n",
      "Again, enter another number:  3\n"
     ]
    },
    {
     "name": "stdout",
     "output_type": "stream",
     "text": [
      "1 is biggest!\n"
     ]
    }
   ],
   "source": [
    "# 3. WAP to find smallest of given 3 numbers\n",
    "\n",
    "a = input('Enter a number: ')\n",
    "b = input('Enter another number: ')\n",
    "c = input('Again, enter another number: ')\n",
    "if a<b and a<c:\n",
    "    print(\"{} is biggest!\".format(a))\n",
    "elif b<a and b<c:\n",
    "    print(\"{} is biggest!\".format(b))\n",
    "else:\n",
    "    print(\"{} is biggest!\".format(c))"
   ]
  },
  {
   "cell_type": "code",
   "execution_count": 27,
   "id": "be494850-355a-454e-9871-f1e7b792dd2e",
   "metadata": {},
   "outputs": [
    {
     "name": "stdin",
     "output_type": "stream",
     "text": [
      "Enter a number:  343\n"
     ]
    },
    {
     "name": "stdout",
     "output_type": "stream",
     "text": [
      "343 is odd!\n"
     ]
    }
   ],
   "source": [
    "# 4. Write a program to check whether the given number is even or odd.\n",
    "\n",
    "num = int(input('Enter a number: '))\n",
    "\n",
    "if num % 2 == 0:\n",
    "    print('{} is even!'.format(num))\n",
    "else:\n",
    "    print('{} is odd!'.format(num))"
   ]
  },
  {
   "cell_type": "code",
   "execution_count": 32,
   "id": "c5740c65-0dfe-48d1-8408-996bf8faa32c",
   "metadata": {},
   "outputs": [
    {
     "name": "stdin",
     "output_type": "stream",
     "text": [
      "Enter a number:  99\n"
     ]
    },
    {
     "name": "stdout",
     "output_type": "stream",
     "text": [
      "99 is in between 1 and 100\n"
     ]
    }
   ],
   "source": [
    "# 5. WAP to check whether the given number is in between 1 and 100\n",
    "\n",
    "num = int(input('Enter a number: '))\n",
    "\n",
    "if (num>0 and num<100):\n",
    "    print('{} is in between 1 and 100'.format(num))\n",
    "else:\n",
    "    print('{} is not in between 1 and 100'.format(num))"
   ]
  },
  {
   "cell_type": "code",
   "execution_count": 35,
   "id": "fb26c386-5a47-457b-bdc1-fed2d35f1bfd",
   "metadata": {},
   "outputs": [
    {
     "name": "stdin",
     "output_type": "stream",
     "text": [
      "Enter a number:  9\n"
     ]
    },
    {
     "name": "stdout",
     "output_type": "stream",
     "text": [
      "Nine\n"
     ]
    }
   ],
   "source": [
    "# 6. WAP to take a single digit number from the keyboard and print it's value in English word\n",
    "\n",
    "num = int(input('Enter a number: '))\n",
    "\n",
    "if num==0:\n",
    "    print('Zero')\n",
    "elif num==1:\n",
    "    print('One')\n",
    "elif num==2:\n",
    "    print('Two')\n",
    "elif num==3:\n",
    "    print('Three')\n",
    "elif num==4:\n",
    "    print('Four')\n",
    "elif num==5:\n",
    "    print('Five')\n",
    "elif num==6:\n",
    "    print('Six')\n",
    "elif num==7:\n",
    "    print('Seven')\n",
    "elif num==8:\n",
    "    print('Eight')\n",
    "elif num==9:\n",
    "    print('Nine')\n"
   ]
  },
  {
   "cell_type": "code",
   "execution_count": 43,
   "id": "e8931411-03cc-488e-b0a7-e7d49eb70391",
   "metadata": {},
   "outputs": [
    {
     "name": "stdin",
     "output_type": "stream",
     "text": [
      "Enter the year:  2040\n"
     ]
    },
    {
     "name": "stdout",
     "output_type": "stream",
     "text": [
      "Leap Year!\n"
     ]
    }
   ],
   "source": [
    "# 7. WAP to check whether a year is a leap year\n",
    "\n",
    "year = int(input('Enter the year: '))\n",
    "\n",
    "if year % 4 == 0:\n",
    "    if year % 100 ==0:\n",
    "        if year % 400 == 0:\n",
    "            print(\"Leap Year!\")\n",
    "        else:\n",
    "            print(\"Not a Leap Year!\")\n",
    "    else:\n",
    "        print(\"Leap Year!\")\n",
    "else:\n",
    "    print(\"Not a Leap Year\")"
   ]
  },
  {
   "cell_type": "code",
   "execution_count": 46,
   "id": "f51ab981-3e34-4ba6-b780-99efec43f926",
   "metadata": {},
   "outputs": [
    {
     "name": "stdin",
     "output_type": "stream",
     "text": [
      "Enter a word amajaying\n"
     ]
    },
    {
     "name": "stdout",
     "output_type": "stream",
     "text": [
      "\"amajaying\" in upper case is \"AMAJAYING\"\n"
     ]
    }
   ],
   "source": [
    "# 8. WAP to convert entered in lower case to upper case\n",
    "\n",
    "word = input('Enter a word')\n",
    "print('\"{}\" in upper case is \"{}\"'.format(word, word.upper()))"
   ]
  },
  {
   "cell_type": "code",
   "execution_count": 51,
   "id": "db5bf14c-3605-4449-bacb-745fccddbfd1",
   "metadata": {},
   "outputs": [
    {
     "name": "stdin",
     "output_type": "stream",
     "text": [
      "Enter the percentage:  55\n"
     ]
    },
    {
     "name": "stdout",
     "output_type": "stream",
     "text": [
      "Grade: D\n"
     ]
    }
   ],
   "source": [
    "# 9. WAP to accept percentage from the user and display the grade\n",
    "\n",
    "percent = int(input(\"Enter the percentage: \"))\n",
    "if percent>90:\n",
    "    print(\"Grade: A\")\n",
    "elif percent > 80 and percent <= 90:\n",
    "    print(\"Grade: B\")\n",
    "elif percent >= 60 and percent <= 80:\n",
    "    print(\"Grade: C\")\n",
    "else:\n",
    "    print(\"Grade: D\")"
   ]
  },
  {
   "cell_type": "markdown",
   "id": "86b80f51-7c6c-4ae6-a5a8-22708d51582f",
   "metadata": {},
   "source": [
    "# 10. WAP to accept the cost price of a bike and display the road tax to be paid\n",
    "\n",
    "cost = int(input(\"Enter the cost price of the bike: \"))\n",
    "\n",
    "if cost > 100000:\n",
    "    print('Road tax: {}'.format(15/100*cost))\n",
    "elif cost > 50000 and cost <= 100000:\n",
    "    print('Road tax: {}'.format(10/100*cost))\n",
    "else:\n",
    "    print('Road tax: {}'.format(5/100*cost))"
   ]
  },
  {
   "cell_type": "code",
   "execution_count": 66,
   "id": "9fa78c57-4f85-48ac-b924-b4d6cf63b722",
   "metadata": {},
   "outputs": [
    {
     "name": "stdin",
     "output_type": "stream",
     "text": [
      "Enter a number:  343\n"
     ]
    },
    {
     "name": "stdout",
     "output_type": "stream",
     "text": [
      "343 is three digit number\n"
     ]
    }
   ],
   "source": [
    "# 11. WAP to check whether a number entered is three digit number or not\n",
    "\n",
    "num = int(input('Enter a number: '))\n",
    "n = num\n",
    "num = num/10\n",
    "num = num/10\n",
    "\n",
    "if num>1 and num<10:\n",
    "    print('{} is three digit number'.format(n))\n",
    "else:\n",
    "    print('{} is not a three digit number'.format(n))"
   ]
  },
  {
   "cell_type": "code",
   "execution_count": null,
   "id": "fd5f3078-e602-48cb-affd-6d1b755fe5d2",
   "metadata": {},
   "outputs": [],
   "source": [
    "# 12. WAP to accept number from 1 to 12 and display the name of month and days in that month\n",
    "\n",
    "mon = int(input('Enter a number: '))\n",
    "\n",
    "if mon == 1:\n",
    "    print('January, 31')\n",
    "elif mon == 2:\n",
    "    print('February, 29')\n",
    "elif mon == 3:\n",
    "    print('March, 31')\n",
    "elif mon == 4:\n",
    "    print('April, 30')\n",
    "elif mon == 5:\n",
    "    print('May, 31')\n",
    "elif mon == 6:\n",
    "    print('June, 30')\n",
    "elif mon == 7:\n",
    "    print('July, 31')\n",
    "elif mon == 8:\n",
    "    print('August, 31')\n",
    "elif mon == 9:\n",
    "    print('September, 31')\n",
    "elif mon == 10:\n",
    "    print('October, 31')\n",
    "elif mon == 11:\n",
    "    print('November, 31')\n",
    "elif mon == 12:\n",
    "    print('December, 31')\n",
    "    "
   ]
  }
 ],
 "metadata": {
  "kernelspec": {
   "display_name": "Python 3 (ipykernel)",
   "language": "python",
   "name": "python3"
  },
  "language_info": {
   "codemirror_mode": {
    "name": "ipython",
    "version": 3
   },
   "file_extension": ".py",
   "mimetype": "text/x-python",
   "name": "python",
   "nbconvert_exporter": "python",
   "pygments_lexer": "ipython3",
   "version": "3.10.11"
  }
 },
 "nbformat": 4,
 "nbformat_minor": 5
}
