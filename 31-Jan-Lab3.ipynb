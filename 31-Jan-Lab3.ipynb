{
 "cells": [
  {
   "cell_type": "code",
   "execution_count": 13,
   "id": "0afc385c-7542-4b4d-b8e1-e842e3a14bce",
   "metadata": {},
   "outputs": [],
   "source": [
    "# Flow Control in Python"
   ]
  },
  {
   "cell_type": "code",
   "execution_count": 14,
   "id": "33fd84b8-8a73-4a45-83cb-e4cced461753",
   "metadata": {},
   "outputs": [],
   "source": [
    "# FOR LOOP"
   ]
  },
  {
   "cell_type": "code",
   "execution_count": 2,
   "id": "e2f2d725-b96d-4521-a6ac-5f8fc65d4164",
   "metadata": {},
   "outputs": [
    {
     "name": "stdout",
     "output_type": "stream",
     "text": [
      "a\n",
      "m\n",
      "a\n",
      "j\n",
      "a\n",
      "y\n",
      "i\n",
      "n\n",
      "g\n"
     ]
    }
   ],
   "source": [
    "# WAP to print characters present in the given string\n",
    "\n",
    "s=\"amajaying\"\n",
    "for x in s:\n",
    "    print(x)"
   ]
  },
  {
   "cell_type": "code",
   "execution_count": 3,
   "id": "f12c4ef3-0467-45cc-8c4d-0a86c7b16926",
   "metadata": {},
   "outputs": [
    {
     "name": "stdin",
     "output_type": "stream",
     "text": [
      "Enter some String:  amajaying\n"
     ]
    },
    {
     "name": "stdout",
     "output_type": "stream",
     "text": [
      "The character present at  0 index is:  a\n",
      "The character present at  1 index is:  m\n",
      "The character present at  2 index is:  a\n",
      "The character present at  3 index is:  j\n",
      "The character present at  4 index is:  a\n",
      "The character present at  5 index is:  y\n",
      "The character present at  6 index is:  i\n",
      "The character present at  7 index is:  n\n",
      "The character present at  8 index is:  g\n"
     ]
    }
   ],
   "source": [
    "# WAP to print characters present in string index wise\n",
    "\n",
    "s=input(\"Enter some String: \")\n",
    "i=0\n",
    "for x in s:\n",
    "    print(\"The character present at \",i,\"index is: \",x)\n",
    "    i=i+1"
   ]
  },
  {
   "cell_type": "code",
   "execution_count": 5,
   "id": "5ff75147-96b5-4b32-8e40-525a9a0d5a2f",
   "metadata": {},
   "outputs": [
    {
     "name": "stdout",
     "output_type": "stream",
     "text": [
      "Hello\n",
      "Hello\n",
      "Hello\n",
      "Hello\n",
      "Hello\n",
      "Hello\n",
      "Hello\n",
      "Hello\n",
      "Hello\n",
      "Hello\n"
     ]
    }
   ],
   "source": [
    "# WAP to print hello 10 times\n",
    "\n",
    "s=\"Hello\"\n",
    "for i in range(1,11):\n",
    "    print(s)"
   ]
  },
  {
   "cell_type": "code",
   "execution_count": 6,
   "id": "f3099233-83b9-4494-bed3-a84b3a6ba7bf",
   "metadata": {},
   "outputs": [
    {
     "name": "stdout",
     "output_type": "stream",
     "text": [
      "Hello\n",
      "Hello\n",
      "Hello\n",
      "Hello\n",
      "Hello\n",
      "Hello\n",
      "Hello\n",
      "Hello\n",
      "Hello\n",
      "Hello\n"
     ]
    }
   ],
   "source": [
    "s=\"Hello\"\n",
    "for i in range(10):\n",
    "    print(s)"
   ]
  },
  {
   "cell_type": "code",
   "execution_count": 7,
   "id": "9dfc8139-cb93-4fd6-a95d-2d37e5901541",
   "metadata": {},
   "outputs": [
    {
     "name": "stdout",
     "output_type": "stream",
     "text": [
      "0\n",
      "1\n",
      "2\n",
      "3\n",
      "4\n",
      "5\n",
      "6\n",
      "7\n",
      "8\n",
      "9\n",
      "10\n"
     ]
    }
   ],
   "source": [
    "# WAP to display numbers from 0 to 10\n",
    "\n",
    "for i in range(0,11):\n",
    "    print(i)"
   ]
  },
  {
   "cell_type": "code",
   "execution_count": 9,
   "id": "cfdec9a5-67d8-4818-a923-11983823bf48",
   "metadata": {},
   "outputs": [
    {
     "name": "stdout",
     "output_type": "stream",
     "text": [
      "1\n",
      "3\n",
      "5\n",
      "7\n",
      "9\n",
      "11\n",
      "13\n",
      "15\n",
      "17\n",
      "19\n"
     ]
    }
   ],
   "source": [
    "# WAP to display odd numbers from 0 to 20\n",
    "\n",
    "for i in range(21):\n",
    "    if(i%2!=0):\n",
    "        print(i)"
   ]
  },
  {
   "cell_type": "code",
   "execution_count": 11,
   "id": "d63673b9-b8ff-47dd-8464-18bf94dc3d66",
   "metadata": {},
   "outputs": [
    {
     "name": "stdout",
     "output_type": "stream",
     "text": [
      "10\n",
      "9\n",
      "8\n",
      "7\n",
      "6\n",
      "5\n",
      "4\n",
      "3\n",
      "2\n",
      "1\n"
     ]
    }
   ],
   "source": [
    "# WAP to display numbers from 10 to 1 in descending order\n",
    "\n",
    "for i in range(10,0,-1):\n",
    "    print(i)"
   ]
  },
  {
   "cell_type": "code",
   "execution_count": 12,
   "id": "16342f53-bb2e-4df7-9cb9-6ede5cd621b2",
   "metadata": {},
   "outputs": [
    {
     "name": "stdin",
     "output_type": "stream",
     "text": [
      "Enter List:  2,3,4,5\n"
     ]
    },
    {
     "name": "stdout",
     "output_type": "stream",
     "text": [
      "The Sum:  14\n"
     ]
    }
   ],
   "source": [
    "# WAP to print sum of numbers present inside list\n",
    "\n",
    "list=eval(input(\"Enter List: \"))\n",
    "sum=0\n",
    "for x in list:\n",
    "    sum+=x\n",
    "print(\"The Sum: \", sum)"
   ]
  },
  {
   "cell_type": "code",
   "execution_count": 15,
   "id": "d0e70d4e-064b-491f-baf9-6ea9347ae600",
   "metadata": {},
   "outputs": [],
   "source": [
    "# WHILE LOOP"
   ]
  },
  {
   "cell_type": "code",
   "execution_count": 17,
   "id": "b8a91e28-2a24-4ff8-9abd-132376cd9b97",
   "metadata": {},
   "outputs": [
    {
     "name": "stdout",
     "output_type": "stream",
     "text": [
      "1\n",
      "2\n",
      "3\n",
      "4\n",
      "5\n",
      "6\n",
      "7\n",
      "8\n",
      "9\n",
      "10\n"
     ]
    }
   ],
   "source": [
    "# WAP to print numbers from 1 to 10 by using while loop\n",
    "\n",
    "x=1\n",
    "while x<=10:\n",
    "    print(x)\n",
    "    x=x+1"
   ]
  },
  {
   "cell_type": "code",
   "execution_count": 18,
   "id": "4ba84d7e-9dec-4efd-92f6-4e4b8ed2b139",
   "metadata": {},
   "outputs": [
    {
     "name": "stdin",
     "output_type": "stream",
     "text": [
      "Enter number:  10\n"
     ]
    },
    {
     "name": "stdout",
     "output_type": "stream",
     "text": [
      "the sum of first 10 number is:  55\n"
     ]
    }
   ],
   "source": [
    "# WAP to display sum of first n numbers\n",
    "\n",
    "n=int(input(\"Enter number: \"))\n",
    "sum=0\n",
    "i=1\n",
    "while i<=n:\n",
    "    sum+=i\n",
    "    i+=1\n",
    "print(\"the sum of first\",n,\"number is: \", sum)"
   ]
  },
  {
   "cell_type": "code",
   "execution_count": 1,
   "id": "ed84699b-443c-44c1-a687-b15ed6ad7d61",
   "metadata": {},
   "outputs": [
    {
     "name": "stdin",
     "output_type": "stream",
     "text": [
      "Enter name:  amajrinfg\n",
      "Enter name:  amajing\n",
      "Enter name:  amajaying\n"
     ]
    },
    {
     "name": "stdout",
     "output_type": "stream",
     "text": [
      "Thanks for confirmation!\n"
     ]
    }
   ],
   "source": [
    "# WAP to prompt user to enter some name until entering amajaying\n",
    "\n",
    "name=\"\"\n",
    "while name!=\"amajaying\":\n",
    "    name=input(\"Enter name: \")\n",
    "print(\"Thanks for confirmation!\")"
   ]
  },
  {
   "cell_type": "code",
   "execution_count": 2,
   "id": "5d9019d0-a25d-4c30-8c6b-f733291c70c3",
   "metadata": {},
   "outputs": [
    {
     "name": "stdout",
     "output_type": "stream",
     "text": [
      "Hello\n",
      "Hello\n",
      "Hello\n",
      "Hello\n",
      "Hello\n",
      "Hello\n"
     ]
    }
   ],
   "source": [
    "# Nested Loops\n",
    "\n",
    "for i in range(3):\n",
    "    for j in range(2):\n",
    "        print(\"Hello\")"
   ]
  },
  {
   "cell_type": "code",
   "execution_count": 3,
   "id": "726903d3-bf06-40b5-acc4-e0f51d9d7741",
   "metadata": {},
   "outputs": [
    {
     "name": "stdout",
     "output_type": "stream",
     "text": [
      "i:  0 j:  0\n",
      "i:  0 j:  1\n",
      "i:  0 j:  2\n",
      "i:  0 j:  3\n",
      "i:  1 j:  0\n",
      "i:  1 j:  1\n",
      "i:  1 j:  2\n",
      "i:  1 j:  3\n",
      "i:  2 j:  0\n",
      "i:  2 j:  1\n",
      "i:  2 j:  2\n",
      "i:  2 j:  3\n",
      "i:  3 j:  0\n",
      "i:  3 j:  1\n",
      "i:  3 j:  2\n",
      "i:  3 j:  3\n"
     ]
    }
   ],
   "source": [
    "for i in range(4):\n",
    "    for j in range(4):\n",
    "        print(\"i: \",i,\"j: \",j)"
   ]
  },
  {
   "cell_type": "code",
   "execution_count": 5,
   "id": "3eaa9611-14bf-41a0-a535-465f23218881",
   "metadata": {},
   "outputs": [
    {
     "name": "stdin",
     "output_type": "stream",
     "text": [
      "enter no of rows:  7\n"
     ]
    },
    {
     "name": "stdout",
     "output_type": "stream",
     "text": [
      "* \n",
      "* * \n",
      "* * * \n",
      "* * * * \n",
      "* * * * * \n",
      "* * * * * * \n",
      "* * * * * * * \n"
     ]
    }
   ],
   "source": [
    "# WAP to display *'s in right angled traingle form\n",
    "\n",
    "n = int(input(\"enter no of rows: \"))\n",
    "for i in range(1,n+1):\n",
    "    for j in range(1,i+1):\n",
    "        print(\"*\", end=\" \")\n",
    "    print()"
   ]
  },
  {
   "cell_type": "code",
   "execution_count": 6,
   "id": "750bf681-6ad7-4d48-85ab-687ec2c718ab",
   "metadata": {},
   "outputs": [
    {
     "name": "stdin",
     "output_type": "stream",
     "text": [
      "Enter number of rows:  7\n"
     ]
    },
    {
     "name": "stdout",
     "output_type": "stream",
     "text": [
      "* \n",
      "* * \n",
      "* * * \n",
      "* * * * \n",
      "* * * * * \n",
      "* * * * * * \n",
      "* * * * * * * \n"
     ]
    }
   ],
   "source": [
    "# Alternatuce way:\n",
    "\n",
    "n=int(input(\"Enter number of rows: \"))\n",
    "for i in range(1,n+1):\n",
    "    print(\"* \"*i)"
   ]
  },
  {
   "cell_type": "code",
   "execution_count": 7,
   "id": "60e21c84-1aae-4596-b7f5-b0564f0d6ca4",
   "metadata": {},
   "outputs": [
    {
     "name": "stdin",
     "output_type": "stream",
     "text": [
      "Enter number of rows:  7\n"
     ]
    },
    {
     "name": "stdout",
     "output_type": "stream",
     "text": [
      "      * \n",
      "     * * \n",
      "    * * * \n",
      "   * * * * \n",
      "  * * * * * \n",
      " * * * * * * \n",
      "* * * * * * * \n"
     ]
    }
   ],
   "source": [
    "# Equivalent Triangle Form\n",
    "\n",
    "n = int(input(\"Enter number of rows: \"))\n",
    "for i in range(1, n+1):\n",
    "    print(\" \"*(n-i),end=\"\")\n",
    "    print(\"* \"*i)"
   ]
  },
  {
   "cell_type": "code",
   "execution_count": 8,
   "id": "5e01a400-32af-41c5-9694-1b1a2a555e3d",
   "metadata": {},
   "outputs": [],
   "source": [
    "# --------------------------------------------------------- "
   ]
  },
  {
   "cell_type": "code",
   "execution_count": 9,
   "id": "ca94861e-0bc3-437a-a46d-4e44a6016d98",
   "metadata": {},
   "outputs": [],
   "source": [
    "# Lab 3 Assignments"
   ]
  },
  {
   "cell_type": "code",
   "execution_count": 18,
   "id": "14142fef-86dd-48a8-9ce8-7178a200bb26",
   "metadata": {},
   "outputs": [
    {
     "name": "stdout",
     "output_type": "stream",
     "text": [
      "Numbers which are divisible by 2 and multiples of 5 are: \n",
      "1500, 1510, 1520, 1530, 1540, 1550, 1560, 1570, 1580, 1590, 1600, 1610, 1620, 1630, 1640, 1650, 1660, 1670, 1680, 1690, 1700, 1710, 1720, 1730, 1740, 1750, 1760, 1770, 1780, 1790, 1800, 1810, 1820, 1830, 1840, 1850, 1860, 1870, 1880, 1890, 1900, 1910, 1920, 1930, 1940, 1950, 1960, 1970, 1980, 1990, 2000, 2010, 2020, 2030, 2040, 2050, 2060, 2070, 2080, 2090, 2100, 2110, 2120, 2130, 2140, 2150, 2160, 2170, 2180, 2190, 2200, 2210, 2220, 2230, 2240, 2250, 2260, 2270, 2280, 2290, 2300, 2310, 2320, 2330, 2340, 2350, 2360, 2370, 2380, 2390, 2400, 2410, 2420, 2430, 2440, 2450, 2460, 2470, 2480, 2490, 2500, 2510, 2520, 2530, 2540, 2550, 2560, 2570, 2580, 2590, 2600, 2610, 2620, 2630, 2640, 2650, 2660, 2670, 2680, 2690, 2700, "
     ]
    }
   ],
   "source": [
    "# wAP to find those numbers which are divisible by 2 and multiples of 5 between 1500 and 2700 (both included)\n",
    "\n",
    "print(\"Numbers which are divisible by 2 and multiples of 5 are: \")\n",
    "for i in range(1499, 2701):\n",
    "    if i%2==0 and i%5==0:\n",
    "        print(i, end=\", \")"
   ]
  },
  {
   "cell_type": "code",
   "execution_count": 22,
   "id": "84de5f61-e627-4450-83b5-e337d41f0e16",
   "metadata": {},
   "outputs": [
    {
     "name": "stdin",
     "output_type": "stream",
     "text": [
      "Enter a sentence:  Hello amajaying!\n"
     ]
    },
    {
     "name": "stdout",
     "output_type": "stream",
     "text": [
      "hELLO AMAJAYING!\n"
     ]
    }
   ],
   "source": [
    "# WAP that accepts a sentence from user and change the case\n",
    "\n",
    "s = input(\"Enter a sentence: \")\n",
    "print(s.swapcase())"
   ]
  },
  {
   "cell_type": "code",
   "execution_count": 25,
   "id": "abf2d0be-14de-460c-aeb9-c185ee30860a",
   "metadata": {},
   "outputs": [
    {
     "name": "stdout",
     "output_type": "stream",
     "text": [
      "Even:  8  Odd:  7\n"
     ]
    }
   ],
   "source": [
    "# WAP to count the number of even and odd numbers in a series of 15 numbers\n",
    "\n",
    "e=0\n",
    "o=0\n",
    "\n",
    "for i in range(0,15):\n",
    "    if i%2==0:\n",
    "        e+=1\n",
    "    else:\n",
    "        o+=1\n",
    "\n",
    "print(\"Even: \",e,\" Odd: \",o)"
   ]
  },
  {
   "cell_type": "code",
   "execution_count": 27,
   "id": "ee9187ed-9f02-498b-b48d-1b784f95bf13",
   "metadata": {},
   "outputs": [
    {
     "name": "stdout",
     "output_type": "stream",
     "text": [
      "5,8,13,21,"
     ]
    }
   ],
   "source": [
    "# WAP to get the Fibonacci series between 5 and 25\n",
    "\n",
    "prev = 3\n",
    "curr = 5\n",
    "\n",
    "while curr<=25:\n",
    "    print(curr, end=\",\")\n",
    "    x=prev\n",
    "    prev=curr\n",
    "    curr=curr+x\n"
   ]
  },
  {
   "cell_type": "code",
   "execution_count": 33,
   "id": "4cd497e5-8c30-4111-b380-5946a8af9b1e",
   "metadata": {},
   "outputs": [
    {
     "name": "stdin",
     "output_type": "stream",
     "text": [
      "Enter row:  4\n",
      "Enter column:  4\n"
     ]
    },
    {
     "name": "stdout",
     "output_type": "stream",
     "text": [
      "0 0 0 0 \n",
      "0 1 2 3 \n",
      "0 2 4 6 \n",
      "0 3 6 9 \n"
     ]
    }
   ],
   "source": [
    "# WAP that takes 2 digits m (row) and n (column) as input and generates a two dimensional array. The element value in the i-th row and j-th column of the array should i*j\n",
    "\n",
    "m = int(input(\"Enter row: \"))\n",
    "n = int(input(\"Enter column: \"))\n",
    "\n",
    "arr=[[0 for j in range(n)] for i in range(m)]\n",
    "\n",
    "for i in range(m):\n",
    "    for j in range(n):\n",
    "        arr[i][j] = i*j\n",
    "\n",
    "for i in range(m):\n",
    "    for j in range(n):\n",
    "        print(arr[i][j], end=\" \")\n",
    "    print()\n"
   ]
  },
  {
   "cell_type": "code",
   "execution_count": null,
   "id": "96ad5586-69bd-4436-9178-2ff06b16cfbd",
   "metadata": {},
   "outputs": [],
   "source": [
    "# WAP that accepts a string and calculates the number of digits and letters\n",
    "\n",
    "n = input(\"Enter a string: \")\n",
    "for i in n:\n",
    "    "
   ]
  }
 ],
 "metadata": {
  "kernelspec": {
   "display_name": "Python 3 (ipykernel)",
   "language": "python",
   "name": "python3"
  },
  "language_info": {
   "codemirror_mode": {
    "name": "ipython",
    "version": 3
   },
   "file_extension": ".py",
   "mimetype": "text/x-python",
   "name": "python",
   "nbconvert_exporter": "python",
   "pygments_lexer": "ipython3",
   "version": "3.10.11"
  }
 },
 "nbformat": 4,
 "nbformat_minor": 5
}
