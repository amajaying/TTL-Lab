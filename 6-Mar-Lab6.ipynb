{
 "cells": [
  {
   "cell_type": "code",
   "execution_count": 1,
   "id": "1dc44d5d-3e11-415e-84b9-96c3a38ade10",
   "metadata": {},
   "outputs": [
    {
     "name": "stdout",
     "output_type": "stream",
     "text": [
      "Requirement already satisfied: numpy in c:\\users\\kiit01\\appdata\\local\\packages\\pythonsoftwarefoundation.python.3.10_qbz5n2kfra8p0\\localcache\\local-packages\\python310\\site-packages (1.25.2)\n"
     ]
    }
   ],
   "source": [
    "!pip install numpy"
   ]
  },
  {
   "cell_type": "code",
   "execution_count": 5,
   "id": "7d1601c6-f850-4128-a21c-804feecb3615",
   "metadata": {},
   "outputs": [
    {
     "name": "stdout",
     "output_type": "stream",
     "text": [
      "[1 2 3]\n"
     ]
    }
   ],
   "source": [
    "import numpy\n",
    "a = numpy.array([1,2,3])\n",
    "print(a)"
   ]
  },
  {
   "cell_type": "code",
   "execution_count": 6,
   "id": "86b6ea31-e03d-4d56-82dd-46c733b890a4",
   "metadata": {},
   "outputs": [
    {
     "name": "stdout",
     "output_type": "stream",
     "text": [
      "[[1 2 3]\n",
      " [4 5 6]]\n"
     ]
    }
   ],
   "source": [
    "a = numpy.array([[1,2,3],[4,5,6]])\n",
    "print(a)"
   ]
  },
  {
   "cell_type": "code",
   "execution_count": 8,
   "id": "70f62c26-02a1-4b09-b413-159c3fc25969",
   "metadata": {},
   "outputs": [
    {
     "name": "stdout",
     "output_type": "stream",
     "text": [
      "2\n"
     ]
    }
   ],
   "source": [
    "arr = numpy.array([[1,2,3,4],[4,5,6,7],[9,10,11,12]])\n",
    "print(arr.ndim)"
   ]
  },
  {
   "cell_type": "code",
   "execution_count": 9,
   "id": "ff130df2-e9f8-40e9-80b5-350a38fd598e",
   "metadata": {},
   "outputs": [
    {
     "name": "stdout",
     "output_type": "stream",
     "text": [
      "Printing array: \n",
      "[[ 1  2  3  4]\n",
      " [ 4  5  6  7]\n",
      " [ 9 10 11 12]]\n",
      "Iterating over the array: \n",
      "123445679101112"
     ]
    }
   ],
   "source": [
    "print(\"Printing array: \")\n",
    "print(arr)\n",
    "print(\"Iterating over the array: \")\n",
    "for x in numpy.nditer(arr):\n",
    "    print(x,end='')"
   ]
  },
  {
   "cell_type": "code",
   "execution_count": 10,
   "id": "21d613bf-4a75-465b-8858-a7a4619cde34",
   "metadata": {},
   "outputs": [],
   "source": [
    "# INTRO TO NUMPY"
   ]
  },
  {
   "cell_type": "code",
   "execution_count": 11,
   "id": "2696b554-c6af-406a-ac55-1ace58d190b9",
   "metadata": {},
   "outputs": [
    {
     "name": "stdout",
     "output_type": "stream",
     "text": [
      "[1, 2, 3, 4, 5, 6]\n"
     ]
    }
   ],
   "source": [
    "my_list=[1,2,3,4,5,6]\n",
    "print(my_list)"
   ]
  },
  {
   "cell_type": "code",
   "execution_count": 12,
   "id": "9d3e4213-defc-4de2-9512-c3cf5e7bd585",
   "metadata": {},
   "outputs": [],
   "source": [
    "import numpy as np"
   ]
  },
  {
   "cell_type": "code",
   "execution_count": 13,
   "id": "1da25971-5e49-4714-9009-7a35223c9eb6",
   "metadata": {},
   "outputs": [
    {
     "name": "stdout",
     "output_type": "stream",
     "text": [
      "[1 2 3 4 5 6]\n"
     ]
    }
   ],
   "source": [
    "array = np.array(my_list, dtype=int)\n",
    "print(array)"
   ]
  },
  {
   "cell_type": "code",
   "execution_count": 14,
   "id": "17b2e677-eda9-43ce-b27b-8e1a374ce289",
   "metadata": {},
   "outputs": [
    {
     "name": "stdout",
     "output_type": "stream",
     "text": [
      "<class 'numpy.ndarray'>\n",
      "6\n",
      "1\n",
      "(6,)\n"
     ]
    }
   ],
   "source": [
    "print(type(array))\n",
    "print(len(array))\n",
    "print(array.ndim)\n",
    "print(array.shape)"
   ]
  },
  {
   "cell_type": "code",
   "execution_count": 15,
   "id": "018f10f1-ac85-45de-9b02-624fa5f852da",
   "metadata": {},
   "outputs": [
    {
     "name": "stdout",
     "output_type": "stream",
     "text": [
      "[[1 2]\n",
      " [3 4]\n",
      " [5 6]]\n"
     ]
    },
    {
     "data": {
      "text/plain": [
       "(3, 2)"
      ]
     },
     "execution_count": 15,
     "metadata": {},
     "output_type": "execute_result"
    }
   ],
   "source": [
    "array2=array.reshape(3,2)\n",
    "print(array2)\n",
    "array2.shape"
   ]
  },
  {
   "cell_type": "code",
   "execution_count": 16,
   "id": "7536e4af-5ec1-40ee-9c0b-72aada233f2d",
   "metadata": {},
   "outputs": [
    {
     "name": "stdout",
     "output_type": "stream",
     "text": [
      "[[1 2]\n",
      " [3 4]\n",
      " [5 6]]\n",
      "2\n"
     ]
    }
   ],
   "source": [
    "array3 = array.reshape(3,-1)\n",
    "print(array3)\n",
    "\n",
    "\n",
    "print(array3.ndim)"
   ]
  },
  {
   "cell_type": "code",
   "execution_count": 17,
   "id": "e7c379dc-c63c-47d1-9dc8-add681bb728b",
   "metadata": {},
   "outputs": [
    {
     "name": "stdout",
     "output_type": "stream",
     "text": [
      "[[1 2 3 4 5]\n",
      " [2 3 4 5 6]\n",
      " [9 7 6 8 9]]\n",
      "(3, 5)\n"
     ]
    }
   ],
   "source": [
    "# Initializing numpy arrays from nested Python lists\n",
    "\n",
    "my_list2 = [1,2,3,4,5]\n",
    "my_list3 = [2,3,4,5,6]\n",
    "my_list4 = [9,7,6,8,9]\n",
    "\n",
    "mul_arr = np.array([my_list2, my_list3, my_list4])\n",
    "print(mul_arr)\n",
    "\n",
    "print(mul_arr.shape)"
   ]
  },
  {
   "cell_type": "code",
   "execution_count": 18,
   "id": "8e5d9ab1-88ba-4d85-a479-34767b486faf",
   "metadata": {},
   "outputs": [
    {
     "data": {
      "text/plain": [
       "array([[1, 2, 3, 4, 5, 2, 3, 4, 5, 6, 9, 7, 6, 8, 9]])"
      ]
     },
     "execution_count": 18,
     "metadata": {},
     "output_type": "execute_result"
    }
   ],
   "source": [
    "mul_arr.reshape(1,15)"
   ]
  },
  {
   "cell_type": "code",
   "execution_count": 19,
   "id": "8bd16149-26ef-4d29-8768-ec3df4ba7e9d",
   "metadata": {},
   "outputs": [
    {
     "name": "stdout",
     "output_type": "stream",
     "text": [
      "(2, 3)\n"
     ]
    }
   ],
   "source": [
    "a = np.array([[1,2,3],[4,5,6]])\n",
    "print(a.shape)"
   ]
  },
  {
   "cell_type": "code",
   "execution_count": 20,
   "id": "1140ce1c-cf5f-42a3-9ef4-f3dd053ecb72",
   "metadata": {},
   "outputs": [
    {
     "name": "stdout",
     "output_type": "stream",
     "text": [
      "[[1 2]\n",
      " [3 4]\n",
      " [5 6]]\n"
     ]
    }
   ],
   "source": [
    "# Reshaping the ndarray\n",
    "a.shape = (3,2)\n",
    "print(a)"
   ]
  },
  {
   "cell_type": "code",
   "execution_count": 21,
   "id": "ed9cbb0f-f71c-41c7-a77e-c857a34e3b2a",
   "metadata": {},
   "outputs": [
    {
     "name": "stdout",
     "output_type": "stream",
     "text": [
      "[[1 2]\n",
      " [3 4]\n",
      " [5 6]]\n"
     ]
    }
   ],
   "source": [
    "# Reshape function to resize an array\n",
    "b = a.reshape(3,2)\n",
    "print(b)"
   ]
  },
  {
   "cell_type": "code",
   "execution_count": 22,
   "id": "261d9b0f-0b69-47d7-b75f-add7ec292c35",
   "metadata": {},
   "outputs": [],
   "source": [
    "r=range(24)"
   ]
  },
  {
   "cell_type": "code",
   "execution_count": 23,
   "id": "d153a3a2-5b0d-4b06-b6f6-07ee37a8cafa",
   "metadata": {},
   "outputs": [
    {
     "name": "stdout",
     "output_type": "stream",
     "text": [
      "range(0, 24)\n"
     ]
    }
   ],
   "source": [
    "print(r)"
   ]
  },
  {
   "cell_type": "code",
   "execution_count": 25,
   "id": "cdfded79-edf6-4f32-bfb9-66bf305f2419",
   "metadata": {},
   "outputs": [
    {
     "name": "stdout",
     "output_type": "stream",
     "text": [
      "[ 0  1  2  3  4  5  6  7  8  9 10 11 12 13 14 15 16 17 18 19 20 21 22 23]\n",
      "1\n"
     ]
    }
   ],
   "source": [
    "# An array of evenly spaced numbers\n",
    "a = np.arange(24)\n",
    "print(a)\n",
    "print(a.ndim)"
   ]
  },
  {
   "cell_type": "code",
   "execution_count": 26,
   "id": "02f9573f-0e5a-44a0-b2a3-07efdbec63a4",
   "metadata": {},
   "outputs": [
    {
     "name": "stdout",
     "output_type": "stream",
     "text": [
      "[[[ 0]\n",
      "  [ 1]\n",
      "  [ 2]\n",
      "  [ 3]]\n",
      "\n",
      " [[ 4]\n",
      "  [ 5]\n",
      "  [ 6]\n",
      "  [ 7]]\n",
      "\n",
      " [[ 8]\n",
      "  [ 9]\n",
      "  [10]\n",
      "  [11]]\n",
      "\n",
      " [[12]\n",
      "  [13]\n",
      "  [14]\n",
      "  [15]]\n",
      "\n",
      " [[16]\n",
      "  [17]\n",
      "  [18]\n",
      "  [19]]\n",
      "\n",
      " [[20]\n",
      "  [21]\n",
      "  [22]\n",
      "  [23]]]\n"
     ]
    }
   ],
   "source": [
    "# Reshaping the array 'a'\n",
    "b=a.reshape(6,4,1)\n",
    "print(b)"
   ]
  },
  {
   "cell_type": "code",
   "execution_count": 27,
   "id": "fc600303-af93-4824-bc3e-1076e885d9f9",
   "metadata": {},
   "outputs": [
    {
     "name": "stdout",
     "output_type": "stream",
     "text": [
      "1\n"
     ]
    }
   ],
   "source": [
    "# dtype of array is int8 (1 byte)\n",
    "x = np.array([1,2,3,4,5], dtype=np.int8)\n",
    "print(x.itemsize)"
   ]
  },
  {
   "cell_type": "code",
   "execution_count": 28,
   "id": "0bcae6d0-fb57-4a89-8337-ae167bb7840e",
   "metadata": {},
   "outputs": [
    {
     "name": "stdout",
     "output_type": "stream",
     "text": [
      "4\n"
     ]
    }
   ],
   "source": [
    "# dtype of array is now float32 (4 bytes)\n",
    "x=np.array([1,2,3,4,5], dtype=np.float32)\n",
    "print(x.itemsize)"
   ]
  },
  {
   "cell_type": "code",
   "execution_count": 29,
   "id": "fc65c6b6-a169-4be7-898a-feb6e8eafb0b",
   "metadata": {},
   "outputs": [
    {
     "name": "stdout",
     "output_type": "stream",
     "text": [
      "[[1. 2.]\n",
      " [3. 4.]]\n",
      "[[5. 6.]\n",
      " [7. 8.]]\n"
     ]
    }
   ],
   "source": [
    "x = np.array([[1,2],[3,4]], dtype=np.float64)\n",
    "y = np.array([[5,6],[7,8]], dtype=np.float64)\n",
    "print(x)\n",
    "print(y)"
   ]
  },
  {
   "cell_type": "code",
   "execution_count": 30,
   "id": "d55a2b93-c79e-49d7-8977-3dd059593bcf",
   "metadata": {},
   "outputs": [
    {
     "name": "stdout",
     "output_type": "stream",
     "text": [
      "[[ 6.  8.]\n",
      " [10. 12.]]\n",
      "[[ 6.  8.]\n",
      " [10. 12.]]\n"
     ]
    }
   ],
   "source": [
    "print(x+y)\n",
    "print(np.add(x,y))"
   ]
  },
  {
   "cell_type": "code",
   "execution_count": 31,
   "id": "545f31bd-ee26-43fd-b4b0-050c6b6a7303",
   "metadata": {},
   "outputs": [],
   "source": [
    "# Lab 6 Assignment"
   ]
  },
  {
   "cell_type": "code",
   "execution_count": 32,
   "id": "38aadd52-920f-4ec6-930a-57874d2cfd55",
   "metadata": {},
   "outputs": [
    {
     "name": "stdout",
     "output_type": "stream",
     "text": [
      "Original Array:\n",
      "[[1 2 3]\n",
      " [4 5 6]\n",
      " [7 8 9]]\n",
      "\n",
      "Reversed Array:\n",
      "[[3 2 1]\n",
      " [6 5 4]\n",
      " [9 8 7]]\n"
     ]
    }
   ],
   "source": [
    "# 1. Reverse the columns of 2d-array\n",
    "\n",
    "original_array = np.array([[1, 2, 3],\n",
    "                           [4, 5, 6],\n",
    "                           [7, 8, 9]])\n",
    "\n",
    "reversed_array = np.fliplr(original_array)\n",
    "\n",
    "print(\"Original Array:\")\n",
    "print(original_array)\n",
    "print(\"\\nReversed Array:\")\n",
    "print(reversed_array)"
   ]
  },
  {
   "cell_type": "code",
   "execution_count": 36,
   "id": "94dad7ce-b669-48ae-b0fa-27e6ecc128b3",
   "metadata": {},
   "outputs": [
    {
     "name": "stdout",
     "output_type": "stream",
     "text": [
      "[[6.2154313  6.54245363 6.63857081 6.35603574]\n",
      " [7.91949072 7.22574862 5.13593776 6.59149834]\n",
      " [5.75290863 9.21687325 5.49596833 6.13088177]]\n"
     ]
    }
   ],
   "source": [
    "# 2. Create a 2d-array containing random floats between 5 and 10\n",
    "\n",
    "rows = 3\n",
    "cols = 4\n",
    "\n",
    "array = np.random.uniform(low=5, high=10, size=(rows, cols))\n",
    "\n",
    "print(array)\n"
   ]
  },
  {
   "cell_type": "code",
   "execution_count": 38,
   "id": "feeed28e-1579-44a2-8be4-8eb14c0b9fba",
   "metadata": {},
   "outputs": [
    {
     "name": "stdout",
     "output_type": "stream",
     "text": [
      "Percentiles:\n",
      "25th percentile: 23.5\n",
      "50th percentile (median): 29.5\n",
      "75th percentile: 40.0\n"
     ]
    }
   ],
   "source": [
    "# 3. Find the percentile scores of a numpy array\n",
    "\n",
    "data = np.array([25, 28, 34, 12, 56, 23, 45, 19, 31, 42])\n",
    "\n",
    "percentiles = np.percentile(data, [25, 50, 75])\n",
    "\n",
    "print(\"Percentiles:\")\n",
    "print(f\"25th percentile: {percentiles[0]}\")\n",
    "print(f\"50th percentile (median): {percentiles[1]}\")\n",
    "print(f\"75th percentile: {percentiles[2]}\")\n"
   ]
  },
  {
   "cell_type": "code",
   "execution_count": 40,
   "id": "c12ce99c-2469-44de-ad85-8bd4b2316c33",
   "metadata": {},
   "outputs": [
    {
     "name": "stdout",
     "output_type": "stream",
     "text": [
      "Position of the first missing value: 2\n"
     ]
    }
   ],
   "source": [
    "# 4. Find the position of a missing value in a numpy array\n",
    "\n",
    "array = np.array([1, 2, np.nan, 4, 5])\n",
    "\n",
    "missing_value_position = np.where(np.isnan(array))[0]\n",
    "\n",
    "if missing_value_position.size > 0:\n",
    "  print(\"Position of the first missing value:\", missing_value_position[0])\n",
    "else:\n",
    "  print(\"No missing values found in the array.\")\n"
   ]
  },
  {
   "cell_type": "code",
   "execution_count": 46,
   "id": "2252fcff-2c73-4a0f-a77a-762182b0014b",
   "metadata": {},
   "outputs": [
    {
     "name": "stdout",
     "output_type": "stream",
     "text": [
      "Before Sorting: \n",
      "[[8 8 8]\n",
      " [5 2 6]\n",
      " [7 8 9]]\n",
      "After Sorting: \n",
      "[[5 2 6]\n",
      " [7 8 8]\n",
      " [8 8 9]]\n"
     ]
    }
   ],
   "source": [
    "# 5. Sort a 2D array by column\n",
    "\n",
    "array = np.array([[8,8,8], [5, 2, 6], [7, 8, 9]])\n",
    "print(\"Before Sorting: \")\n",
    "print (array)\n",
    "\n",
    "print(\"After Sorting: \")\n",
    "\n",
    "sorted_array = np.sort(array, axis=0)  \n",
    "print(sorted_array)"
   ]
  },
  {
   "cell_type": "code",
   "execution_count": 52,
   "id": "a84c9169-b6b6-467e-80c1-07c611ca0e0c",
   "metadata": {},
   "outputs": [
    {
     "name": "stdout",
     "output_type": "stream",
     "text": [
      "Most frequent value: 2\n"
     ]
    }
   ],
   "source": [
    "# 6. Find the most frequent value in a numpy array\n",
    "\n",
    "array = np.array([2, 3, 2, 1, 2, 3, 5, 2, 3, 2])\n",
    "counts = np.bincount(array)\n",
    "most_frequent_value = array[np.argmax(counts)]\n",
    "\n",
    "print(\"Most frequent value:\", most_frequent_value)"
   ]
  },
  {
   "cell_type": "code",
   "execution_count": null,
   "id": "5a829a46-2b13-4ab0-887b-019a87e95c8f",
   "metadata": {},
   "outputs": [],
   "source": []
  },
  {
   "cell_type": "code",
   "execution_count": null,
   "id": "8e6e0642-1f2b-49bc-b459-33e803ab8215",
   "metadata": {},
   "outputs": [],
   "source": []
  }
 ],
 "metadata": {
  "kernelspec": {
   "display_name": "Python 3 (ipykernel)",
   "language": "python",
   "name": "python3"
  },
  "language_info": {
   "codemirror_mode": {
    "name": "ipython",
    "version": 3
   },
   "file_extension": ".py",
   "mimetype": "text/x-python",
   "name": "python",
   "nbconvert_exporter": "python",
   "pygments_lexer": "ipython3",
   "version": "3.10.11"
  }
 },
 "nbformat": 4,
 "nbformat_minor": 5
}
