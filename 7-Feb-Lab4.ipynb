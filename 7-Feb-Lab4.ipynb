{
 "cells": [
  {
   "cell_type": "code",
   "execution_count": 1,
   "id": "67168d3c-7dea-415f-b137-fe53e854bf9c",
   "metadata": {},
   "outputs": [],
   "source": [
    "# Functions in Python"
   ]
  },
  {
   "cell_type": "code",
   "execution_count": 2,
   "id": "bd6961a5-2eec-48ce-8a1e-afb2623569fe",
   "metadata": {},
   "outputs": [
    {
     "name": "stdout",
     "output_type": "stream",
     "text": [
      "The Sum :  30\n",
      "The Difference :  10\n",
      "The Product :  200\n"
     ]
    }
   ],
   "source": [
    "a = 20\n",
    "b = 10\n",
    "print('The Sum : ', a + b)\n",
    "print('The Difference : ', a - b)\n",
    "print('The Product : ', a * b)"
   ]
  },
  {
   "cell_type": "code",
   "execution_count": 3,
   "id": "a64cb9e3-f34b-4b8f-9028-10dbcdbdb4d5",
   "metadata": {},
   "outputs": [
    {
     "name": "stdout",
     "output_type": "stream",
     "text": [
      "The Sum :  30\n",
      "The Difference :  10\n",
      "The Product :  200\n",
      "The Sum :  300\n",
      "The Difference :  100\n",
      "The Product :  20000\n"
     ]
    }
   ],
   "source": [
    "a = 20\n",
    "b = 10\n",
    "print('The Sum : ', a + b)\n",
    "print('The Difference : ', a - b)\n",
    "print('The Product : ', a * b)\n",
    "a = 200\n",
    "b = 100\n",
    "print('The Sum : ', a + b)\n",
    "print('The Difference : ', a - b)\n",
    "print('The Product : ', a * b)"
   ]
  },
  {
   "cell_type": "code",
   "execution_count": 4,
   "id": "e85fe25a-8bab-41bf-b125-e4817b3b22df",
   "metadata": {},
   "outputs": [
    {
     "name": "stdout",
     "output_type": "stream",
     "text": [
      "The Sum :  30\n",
      "The Difference :  10\n",
      "The Product :  200\n",
      "The Sum :  300\n",
      "The Difference :  100\n",
      "The Product :  20000\n",
      "The Sum :  3000\n",
      "The Difference :  1000\n",
      "The Product :  2000000\n"
     ]
    }
   ],
   "source": [
    "a = 20\n",
    "b = 10\n",
    "print('The Sum : ', a + b)\n",
    "print('The Difference : ', a - b)\n",
    "print('The Product : ', a * b)\n",
    "a = 200\n",
    "b = 100\n",
    "print('The Sum : ', a + b)\n",
    "print('The Difference : ', a - b)\n",
    "print('The Product : ', a * b)\n",
    "a = 2000\n",
    "b = 1000\n",
    "print('The Sum : ', a + b)\n",
    "print('The Difference : ', a - b)\n",
    "print('The Product : ', a * b)"
   ]
  },
  {
   "cell_type": "code",
   "execution_count": 5,
   "id": "6f99ee02-454f-4f9b-bd62-af3ef494e0ac",
   "metadata": {},
   "outputs": [],
   "source": [
    "# Now let's use functions"
   ]
  },
  {
   "cell_type": "code",
   "execution_count": 6,
   "id": "d349d9d3-ea82-4346-bfcf-db4f72682a50",
   "metadata": {},
   "outputs": [
    {
     "name": "stdout",
     "output_type": "stream",
     "text": [
      "The Sum :  30\n",
      "The Difference :  10\n",
      "The Product :  200\n"
     ]
    }
   ],
   "source": [
    "def calculate(a,b):\n",
    " print('The Sum : ', a + b)\n",
    " print('The Difference : ', a - b)\n",
    " print('The Product : ', a * b)\n",
    "a = 20\n",
    "b = 10\n",
    "calculate(a,b)\n"
   ]
  },
  {
   "cell_type": "code",
   "execution_count": 7,
   "id": "1932df23-24a9-48b7-8a1b-8ecb1d05a572",
   "metadata": {},
   "outputs": [
    {
     "name": "stdout",
     "output_type": "stream",
     "text": [
      "The Sum :  30\n",
      "The Difference :  10\n",
      "The Product :  200\n",
      "The Sum :  300\n",
      "The Difference :  100\n",
      "The Product :  20000\n"
     ]
    }
   ],
   "source": [
    "def calculate(a,b):\n",
    " print('The Sum : ', a + b)\n",
    " print('The Difference : ', a - b)\n",
    " print('The Product : ', a * b)\n",
    "a = 20\n",
    "b = 10\n",
    "calculate(a,b)\n",
    "a = 200\n",
    "b = 100\n",
    "calculate(a,b)"
   ]
  },
  {
   "cell_type": "code",
   "execution_count": 8,
   "id": "c050d679-53a6-4423-b75c-a557a73f1d1b",
   "metadata": {},
   "outputs": [
    {
     "name": "stdout",
     "output_type": "stream",
     "text": [
      "The Sum :  30\n",
      "The Difference :  10\n",
      "The Product :  200\n",
      "The Sum :  300\n",
      "The Difference :  100\n",
      "The Product :  20000\n",
      "The Sum :  3000\n",
      "The Difference :  1000\n",
      "The Product :  2000000\n"
     ]
    }
   ],
   "source": [
    "def calculate(a,b):\n",
    " print('The Sum : ', a + b)\n",
    " print('The Difference : ', a - b) # Function 'calculate()' executes 3 times\n",
    " print('The Product : ', a * b)\n",
    "a = 20\n",
    "b = 10\n",
    "calculate(a,b) # Function call\n",
    "a = 200\n",
    "b = 100\n",
    "calculate(a,b)\n",
    "a = 2000\n",
    "b = 1000\n",
    "calculate(a,b)"
   ]
  },
  {
   "cell_type": "code",
   "execution_count": 9,
   "id": "53bbc627-a007-4066-9b1c-86ff54ac6878",
   "metadata": {},
   "outputs": [
    {
     "name": "stdout",
     "output_type": "stream",
     "text": [
      "The Sum :  30\n",
      "The Difference :  10\n",
      "The Product :  200\n",
      "The Sum :  300\n",
      "The Difference :  100\n",
      "The Product :  20000\n",
      "The Sum :  3000\n",
      "The Difference :  1000\n",
      "The Product :  2000000\n"
     ]
    }
   ],
   "source": [
    "def calculate(a,b):\n",
    " print('The Sum : ', a + b)\n",
    " print('The Difference : ', a - b) # Function 'calculate()' executes 3 times\n",
    " print('The Product : ', a * b)\n",
    "calculate(20,10) # Function call\n",
    "calculate(200,100)\n",
    "calculate(2000,1000) "
   ]
  },
  {
   "cell_type": "code",
   "execution_count": 10,
   "id": "0304c88c-2089-46e8-abb2-8cece7ba58d8",
   "metadata": {},
   "outputs": [
    {
     "name": "stdout",
     "output_type": "stream",
     "text": [
      "Hello Good Morning\n",
      "Hello Good Morning\n",
      "Hello Good Morning\n"
     ]
    }
   ],
   "source": [
    "def wish():\n",
    " print(\"Hello Good Morning\")\n",
    "wish()\n",
    "wish()\n",
    "wish()"
   ]
  },
  {
   "cell_type": "code",
   "execution_count": 11,
   "id": "e566052c-90bc-47a6-ae21-f697303647f1",
   "metadata": {},
   "outputs": [
    {
     "name": "stdout",
     "output_type": "stream",
     "text": [
      "Hello Karthi  Good Morning\n",
      "Hello Sahasra  Good Morning\n"
     ]
    }
   ],
   "source": [
    "def wish(name):\n",
    " print(\"Hello\",name,\" Good Morning\")\n",
    "wish(\"Karthi\")\n",
    "wish(\"Sahasra\")"
   ]
  },
  {
   "cell_type": "code",
   "execution_count": 13,
   "id": "5f63cc3a-0389-4540-991a-a14179d21e6a",
   "metadata": {},
   "outputs": [
    {
     "name": "stdout",
     "output_type": "stream",
     "text": [
      "The Square of 4 is 16\n",
      "The Square of 5 is 25\n",
      "The Square of 7 is 49\n"
     ]
    }
   ],
   "source": [
    "def squareIt(number):\n",
    " print(\"The Square of\",number,\"is\", number*number)\n",
    "squareIt(4)\n",
    "squareIt(5)\n",
    "squareIt(7)"
   ]
  },
  {
   "cell_type": "code",
   "execution_count": 14,
   "id": "4dc41855-19c3-4dd2-80b6-5cedb59c4a37",
   "metadata": {},
   "outputs": [
    {
     "name": "stdout",
     "output_type": "stream",
     "text": [
      "hello\n"
     ]
    }
   ],
   "source": [
    "def wish():\n",
    " print('hello')\n",
    "#print(wish())\n",
    "wish()"
   ]
  },
  {
   "cell_type": "code",
   "execution_count": 15,
   "id": "6f01f843-4c31-4102-962a-2aff2e80da08",
   "metadata": {},
   "outputs": [
    {
     "name": "stdout",
     "output_type": "stream",
     "text": [
      "hello\n",
      "None\n"
     ]
    }
   ],
   "source": [
    "def wish():\n",
    " print('hello')\n",
    "print(wish())\n",
    "#wish()"
   ]
  },
  {
   "cell_type": "code",
   "execution_count": 18,
   "id": "da60450a-fc0b-4a25-820d-054f39e0edb7",
   "metadata": {},
   "outputs": [
    {
     "name": "stdout",
     "output_type": "stream",
     "text": [
      "The sum is 30\n",
      "The sum is 300\n"
     ]
    }
   ],
   "source": [
    "# WAP to accept 2 numbers as input and return sum.\n",
    "\n",
    "def add(x,y):\n",
    " return x+y\n",
    "result=add(10,20)\n",
    "print(\"The sum is\",result)\n",
    "print(\"The sum is\",add(100,200))\n"
   ]
  },
  {
   "cell_type": "code",
   "execution_count": 17,
   "id": "4e287bbb-1512-49b6-b2a8-e3954f930f0b",
   "metadata": {},
   "outputs": [
    {
     "name": "stdout",
     "output_type": "stream",
     "text": [
      "Hello\n",
      "Hello\n",
      "None\n"
     ]
    }
   ],
   "source": [
    "def f1():\n",
    " print(\"Hello\")\n",
    "f1()\n",
    "print(f1())"
   ]
  },
  {
   "cell_type": "code",
   "execution_count": 20,
   "id": "dd63f4ea-b279-4c1c-93d0-fb3eb9cdea58",
   "metadata": {},
   "outputs": [
    {
     "name": "stdout",
     "output_type": "stream",
     "text": [
      "10 is Even Number\n",
      "15 is Odd Number\n"
     ]
    }
   ],
   "source": [
    "# WAP to check whether the given number is even or odd\n",
    "\n",
    "def even_odd(num):\n",
    "    if num%2==0:\n",
    "        print(num,\"is Even Number\")\n",
    "    else:\n",
    "        print(num,\"is Odd Number\")\n",
    "even_odd(10)\n",
    "even_odd(15)"
   ]
  },
  {
   "cell_type": "code",
   "execution_count": 22,
   "id": "24eff5c7-8f15-483c-a238-90e2a75ff572",
   "metadata": {},
   "outputs": [
    {
     "name": "stdout",
     "output_type": "stream",
     "text": [
      "The Factorial of 1 is : 1\n",
      "The Factorial of 2 is : 2\n",
      "The Factorial of 3 is : 6\n",
      "The Factorial of 4 is : 24\n"
     ]
    }
   ],
   "source": [
    "# WAP function to find factorial of given number\n",
    "\n",
    "def fact(num):\n",
    "    result=1\n",
    "    while num>=1:\n",
    "        result=result*num\n",
    "        num=num-1\n",
    "    return result\n",
    "for i in range(1,5):\n",
    "    print(\"The Factorial of\",i,\"is :\",fact(i))"
   ]
  },
  {
   "cell_type": "code",
   "execution_count": 23,
   "id": "bf9da095-044d-4fc4-b528-357d27ffbdd7",
   "metadata": {},
   "outputs": [],
   "source": [
    "# Returning multiple values from a function"
   ]
  },
  {
   "cell_type": "code",
   "execution_count": 24,
   "id": "a2031444-7817-4299-9a22-0e6469ff921a",
   "metadata": {},
   "outputs": [
    {
     "name": "stdout",
     "output_type": "stream",
     "text": [
      "150 50 5000 2.0\n"
     ]
    }
   ],
   "source": [
    "def calc(a,b): # Here, 'a' & 'b' are called positional arguments\n",
    " sum = a + b\n",
    " sub = a - b\n",
    " mul = a * b\n",
    " div = a / b\n",
    " return sum,sub,mul,div\n",
    "a,b,c,d = calc(100,50) # Positional arguments\n",
    "print(a,b,c,d)"
   ]
  },
  {
   "cell_type": "code",
   "execution_count": 25,
   "id": "a94c3b5f-085e-4ea6-93a4-4c9e934d3bbb",
   "metadata": {},
   "outputs": [
    {
     "name": "stdout",
     "output_type": "stream",
     "text": [
      "150\n",
      "50\n",
      "5000\n",
      "2.0\n"
     ]
    }
   ],
   "source": [
    "def calc(a,b): # Positional Arguments\n",
    " sum = a + b\n",
    " sub = a - b\n",
    " mul = a * b\n",
    " div = a / b\n",
    " return sum,sub,mul,div\n",
    "t = calc(100,50)\n",
    "for x in t:\n",
    " print(x)"
   ]
  },
  {
   "cell_type": "code",
   "execution_count": 26,
   "id": "75ab391d-8475-46e4-8032-d7352bbf33b4",
   "metadata": {},
   "outputs": [
    {
     "name": "stdout",
     "output_type": "stream",
     "text": [
      "150\n",
      "50\n",
      "5000\n",
      "2.0\n"
     ]
    }
   ],
   "source": [
    "def calc(a,b): # keyword arguments Arguments\n",
    " sum = a + b\n",
    " sub = a - b\n",
    " mul = a * b\n",
    " div = a / b\n",
    " return sum,sub,mul,div\n",
    "t = calc(a = 100, b = 50) # keyword arguments Arguments\n",
    "for x in t:\n",
    " print(x)"
   ]
  },
  {
   "cell_type": "code",
   "execution_count": 27,
   "id": "b82f8772-c895-4307-8f92-4346d2044483",
   "metadata": {},
   "outputs": [
    {
     "name": "stdout",
     "output_type": "stream",
     "text": [
      "150\n",
      "50\n",
      "5000\n",
      "2.0\n"
     ]
    }
   ],
   "source": [
    "def calc(a,b): # keyword arguments Arguments\n",
    " sum = a + b\n",
    " sub = a - b\n",
    " mul = a * b\n",
    " div = a / b\n",
    " return sum,sub,mul,div\n",
    "t = calc(b = 50, a = 100) # keyword arguments Arguments\n",
    "for x in t:\n",
    " print(x)\n"
   ]
  },
  {
   "cell_type": "code",
   "execution_count": 28,
   "id": "2d996d75-1d01-48f9-aaeb-21ce2dfb987a",
   "metadata": {},
   "outputs": [
    {
     "name": "stdout",
     "output_type": "stream",
     "text": [
      "150\n",
      "50\n",
      "5000\n",
      "2.0\n"
     ]
    }
   ],
   "source": [
    "def calc(a,b): # keyword arguments Arguments\n",
    " sum = a + b\n",
    " sub = a - b\n",
    " mul = a * b\n",
    " div = a / b\n",
    " return sum,sub,mul,div\n",
    "t = calc(100, b = 50) # It is perfectly valid\n",
    "for x in t:\n",
    " print(x)"
   ]
  },
  {
   "cell_type": "code",
   "execution_count": 29,
   "id": "da53c5a7-eb0f-40bf-8216-17991d6a0677",
   "metadata": {},
   "outputs": [
    {
     "ename": "SyntaxError",
     "evalue": "positional argument follows keyword argument (990012515.py, line 7)",
     "output_type": "error",
     "traceback": [
      "\u001b[1;36m  Cell \u001b[1;32mIn[29], line 7\u001b[1;36m\u001b[0m\n\u001b[1;33m    t = calc(b = 50, 100) # It is invalid, because positional argument should follow k\u001b[0m\n\u001b[1;37m                        ^\u001b[0m\n\u001b[1;31mSyntaxError\u001b[0m\u001b[1;31m:\u001b[0m positional argument follows keyword argument\n"
     ]
    }
   ],
   "source": [
    "def calc(a,b): # keyword arguments Arguments\n",
    " sum = a + b\n",
    " sub = a - b\n",
    " mul = a * b\n",
    " div = a / b\n",
    " return sum,sub,mul,div\n",
    "t = calc(b = 50, 100) # It is invalid, because positional argument should follow k\n",
    "for x in t: # first keyword argument then possitional argument is not all\n",
    " print(x)"
   ]
  },
  {
   "cell_type": "code",
   "execution_count": 30,
   "id": "1dc79d6f-2bc6-4149-a99f-5677258f166a",
   "metadata": {},
   "outputs": [
    {
     "ename": "TypeError",
     "evalue": "calc() got multiple values for argument 'a'",
     "output_type": "error",
     "traceback": [
      "\u001b[1;31m---------------------------------------------------------------------------\u001b[0m",
      "\u001b[1;31mTypeError\u001b[0m                                 Traceback (most recent call last)",
      "Cell \u001b[1;32mIn[30], line 7\u001b[0m\n\u001b[0;32m      5\u001b[0m  div \u001b[38;5;241m=\u001b[39m a \u001b[38;5;241m/\u001b[39m b\n\u001b[0;32m      6\u001b[0m  \u001b[38;5;28;01mreturn\u001b[39;00m \u001b[38;5;28msum\u001b[39m,sub,mul,div\n\u001b[1;32m----> 7\u001b[0m t \u001b[38;5;241m=\u001b[39m \u001b[43mcalc\u001b[49m\u001b[43m(\u001b[49m\u001b[38;5;241;43m50\u001b[39;49m\u001b[43m,\u001b[49m\u001b[43m \u001b[49m\u001b[43ma\u001b[49m\u001b[43m \u001b[49m\u001b[38;5;241;43m=\u001b[39;49m\u001b[43m \u001b[49m\u001b[38;5;241;43m50\u001b[39;49m\u001b[43m)\u001b[49m \u001b[38;5;66;03m# It is also invalid\u001b[39;00m\n\u001b[0;32m      8\u001b[0m \u001b[38;5;28;01mfor\u001b[39;00m x \u001b[38;5;129;01min\u001b[39;00m t:\n\u001b[0;32m      9\u001b[0m  \u001b[38;5;28mprint\u001b[39m(x)\n",
      "\u001b[1;31mTypeError\u001b[0m: calc() got multiple values for argument 'a'"
     ]
    }
   ],
   "source": [
    "def calc(a,b): # keyword arguments Arguments\n",
    " sum = a + b\n",
    " sub = a - b\n",
    " mul = a * b\n",
    " div = a / b\n",
    " return sum,sub,mul,div\n",
    "t = calc(50, a = 50) # It is also invalid\n",
    "for x in t:\n",
    " print(x)\n"
   ]
  },
  {
   "cell_type": "code",
   "execution_count": 32,
   "id": "78c72095-824b-4310-b973-5988b1a464a6",
   "metadata": {},
   "outputs": [
    {
     "name": "stdout",
     "output_type": "stream",
     "text": [
      "Hello Ajay Good Morning\n",
      "Hello Ajay Good Morning\n"
     ]
    }
   ],
   "source": [
    "def wish(name,msg):\n",
    " print('Hello',name,msg)\n",
    "wish(name = 'Ajay',msg = 'Good Morning') #order is not important, but no.of arguments is\n",
    "wish(msg = 'Good Morning',name = 'Ajay')"
   ]
  },
  {
   "cell_type": "code",
   "execution_count": 33,
   "id": "d09790df-1a90-49ac-9a23-fb764b217c80",
   "metadata": {},
   "outputs": [
    {
     "ename": "SyntaxError",
     "evalue": "non-default argument follows default argument (1472601866.py, line 1)",
     "output_type": "error",
     "traceback": [
      "\u001b[1;36m  Cell \u001b[1;32mIn[33], line 1\u001b[1;36m\u001b[0m\n\u001b[1;33m    def wish(name ='Guest',msg): # After default argument, we should not take non-defaul\u001b[0m\n\u001b[1;37m                           ^\u001b[0m\n\u001b[1;31mSyntaxError\u001b[0m\u001b[1;31m:\u001b[0m non-default argument follows default argument\n"
     ]
    }
   ],
   "source": [
    "def wish(name ='Guest',msg): # After default argument, we should not take non-defaul\n",
    " print('Hello',name,msg)\n"
   ]
  },
  {
   "cell_type": "code",
   "execution_count": null,
   "id": "3fbd96ac-2709-4d30-8cee-1bacbd740efb",
   "metadata": {},
   "outputs": [],
   "source": []
  },
  {
   "cell_type": "code",
   "execution_count": 34,
   "id": "f73ccb4f-6f0d-4247-b926-53c3258519e5",
   "metadata": {},
   "outputs": [],
   "source": [
    "# LAB 4 Assignments start here!"
   ]
  },
  {
   "cell_type": "code",
   "execution_count": 37,
   "id": "0f5cfb9c-84a7-4a4e-8f31-3290301eec9c",
   "metadata": {},
   "outputs": [
    {
     "name": "stdin",
     "output_type": "stream",
     "text": [
      "Enter a number (negative number to stop):  1\n",
      "Enter a number (negative number to stop):  2\n",
      "Enter a number (negative number to stop):  3\n",
      "Enter a number (negative number to stop):  -3\n"
     ]
    },
    {
     "name": "stdout",
     "output_type": "stream",
     "text": [
      "The sum of the numbers is: 3\n"
     ]
    }
   ],
   "source": [
    "# WAP to calculate the sum of numbers (10 numbers max), If the user enters a negative number, the loop terminates.\n",
    "\n",
    "def sum_of_numbers():\n",
    "    numbers = []\n",
    "    while True:\n",
    "        num = int(input(\"Enter a number (negative number to stop): \"))\n",
    "        if num < 0:\n",
    "            numbers.append(num)\n",
    "            break\n",
    "        numbers.append(num)\n",
    "        if len(numbers) >= 10:\n",
    "            break\n",
    "    return sum(numbers)\n",
    "\n",
    "total_sum = sum_of_numbers()\n",
    "print(\"The sum of the numbers is:\", total_sum)\n"
   ]
  },
  {
   "cell_type": "code",
   "execution_count": 45,
   "id": "0b889b8e-33d2-4cd1-bddd-37b73c82f9c8",
   "metadata": {},
   "outputs": [
    {
     "name": "stdin",
     "output_type": "stream",
     "text": [
      "Enter a number (negative number to stop):  1\n",
      "Enter a number (negative number to stop):  2\n",
      "Enter a number (negative number to stop):  3\n",
      "Enter a number (negative number to stop):  4\n",
      "Enter a number (negative number to stop):  -3\n",
      "Enter a number (negative number to stop):  5\n",
      "Enter a number (negative number to stop):  0\n",
      "Enter a number (negative number to stop):  0\n",
      "Enter a number (negative number to stop):  0\n",
      "Enter a number (negative number to stop):  0\n",
      "Enter a number (negative number to stop):  0\n"
     ]
    },
    {
     "name": "stdout",
     "output_type": "stream",
     "text": [
      "The sum of the numbers is: 15\n"
     ]
    }
   ],
   "source": [
    "# WAP to calculate the sum of numbers (10 numbers max),If the user enters a negative number, it's not added to the result.\n",
    "\n",
    "def sum_of_numbers():\n",
    "    numbers = []\n",
    "    while True:\n",
    "        num = int(input(\"Enter a number (negative number to stop): \"))\n",
    "        if num < 0:\n",
    "            continue\n",
    "        numbers.append(num)\n",
    "        if len(numbers) >= 10:\n",
    "            break\n",
    "    return sum(numbers)\n",
    "\n",
    "total_sum = sum_of_numbers()\n",
    "print(\"The sum of the numbers is:\", total_sum)"
   ]
  },
  {
   "cell_type": "code",
   "execution_count": 40,
   "id": "2cff3a61-fcd0-412b-aedf-cca29636b99e",
   "metadata": {},
   "outputs": [
    {
     "name": "stdin",
     "output_type": "stream",
     "text": [
      "Enter the start of the range:  1\n",
      "Enter the end of the range:  10\n"
     ]
    },
    {
     "name": "stdout",
     "output_type": "stream",
     "text": [
      "Non-prime numbers in the range 1 to 10 are: [1, 4, 6, 8, 9, 10]\n"
     ]
    }
   ],
   "source": [
    "# Python program to display all numbers within a range except the prime numbers.\n",
    "\n",
    "def is_prime(n):\n",
    "    if n <= 1:\n",
    "        return False\n",
    "    for i in range(2, int(n**0.5) + 1):\n",
    "        if n % i == 0:\n",
    "            return False\n",
    "    return True\n",
    "\n",
    "def display_non_primes(start, end):\n",
    "    non_primes = []\n",
    "    for num in range(start, end + 1):\n",
    "        if not is_prime(num):\n",
    "            non_primes.append(num)\n",
    "    return non_primes\n",
    "\n",
    "start = int(input(\"Enter the start of the range: \"))\n",
    "end = int(input(\"Enter the end of the range: \"))\n",
    "\n",
    "non_primes_in_range = display_non_primes(start, end)\n",
    "print(\"Non-prime numbers in the range\", start, \"to\", end, \"are:\", non_primes_in_range)\n"
   ]
  },
  {
   "cell_type": "code",
   "execution_count": 5,
   "id": "0cb8b28a-5cba-4664-b66d-d7fc6f7d222c",
   "metadata": {},
   "outputs": [
    {
     "name": "stdout",
     "output_type": "stream",
     "text": [
      "Common elements in the lists: [3, 4, 5]\n"
     ]
    }
   ],
   "source": [
    "# Find the common elements in two lists using a for-loop\n",
    "\n",
    "def find_common_elements(list1, list2):\n",
    "    common_elements = []\n",
    "    for item1 in list1:\n",
    "        for item2 in list2:\n",
    "            if item1 == item2:\n",
    "                common_elements.append(item1)\n",
    "                break \n",
    "    return common_elements\n",
    "\n",
    "list1 = [1, 2, 3, 4, 5]\n",
    "list2 = [3, 4, 5, 6, 7]\n",
    "\n",
    "common_elements = find_common_elements(list1, list2)\n",
    "print(\"Common elements in the lists:\", common_elements)"
   ]
  },
  {
   "cell_type": "code",
   "execution_count": 43,
   "id": "35ce6e9c-cf2a-49c6-a899-589f89fa5847",
   "metadata": {},
   "outputs": [
    {
     "name": "stdout",
     "output_type": "stream",
     "text": [
      "1\n",
      "2\n",
      "3\n",
      "4\n"
     ]
    }
   ],
   "source": [
    "# Print numbers from 1 to 10. If a number is divisible by 4, stop the loop using a for loop and break statement.\n",
    "\n",
    "def print_numbers():\n",
    "    for i in range(1, 11):\n",
    "        print(i)\n",
    "        if i % 4 == 0:\n",
    "            break\n",
    "\n",
    "print_numbers()"
   ]
  },
  {
   "cell_type": "code",
   "execution_count": 54,
   "id": "bd567c12-fb35-4607-8424-ea65bc0b0548",
   "metadata": {},
   "outputs": [
    {
     "name": "stdout",
     "output_type": "stream",
     "text": [
      "[1, 2, 3, 4, 6, 8, 5]\n"
     ]
    }
   ],
   "source": [
    "# Write a Python function that takes a list and returns a new list with distinct elements from the first list.\n",
    "\n",
    "def distinct_elements(input_list):\n",
    "    distinct_list=[]\n",
    "    for i in input_list:\n",
    "        if i not in distinct_list:\n",
    "            distinct_list.append(i)\n",
    "    return distinct_list\n",
    "\n",
    "input_list = [1, 2, 2, 3, 4, 4, 6, 6, 6, 6, 8, 5]\n",
    "result = distinct_elements(input_list)\n",
    "print(result)"
   ]
  },
  {
   "cell_type": "code",
   "execution_count": 57,
   "id": "b7a6a4e4-654c-4307-b62c-8cb464708acc",
   "metadata": {},
   "outputs": [
    {
     "name": "stdout",
     "output_type": "stream",
     "text": [
      "28 is a perfect number.\n"
     ]
    }
   ],
   "source": [
    "# Write a Python function to check whether a number is Perfect or not.\n",
    "\n",
    "def is_perfect_number(num):\n",
    "    if num <= 0:\n",
    "        return False\n",
    "    divisor_sum = 0\n",
    "    for i in range(1, num):\n",
    "        if num % i == 0:\n",
    "            divisor_sum += i\n",
    "    return divisor_sum == num\n",
    "\n",
    "number = 28\n",
    "if is_perfect_number(number):\n",
    "    print(number, \"is a perfect number.\")\n",
    "else:\n",
    "    print(number, \"is not a perfect number.\")\n"
   ]
  },
  {
   "cell_type": "code",
   "execution_count": 58,
   "id": "b8a2ddba-4513-43b5-b42e-486abeb904af",
   "metadata": {},
   "outputs": [
    {
     "name": "stdin",
     "output_type": "stream",
     "text": [
      "Enter a number to find its prime factors:  6\n"
     ]
    },
    {
     "name": "stdout",
     "output_type": "stream",
     "text": [
      "Prime factors of 6 are: [2, 3]\n"
     ]
    }
   ],
   "source": [
    "# Write a program to find out the prime factors of a number Using Function.\n",
    "\n",
    "def prime_factors(num):\n",
    "    factors = []\n",
    "    divisor = 2\n",
    "    \n",
    "    while num > 1:\n",
    "        while num % divisor == 0:\n",
    "            factors.append(divisor)\n",
    "            num //= divisor\n",
    "        divisor += 1\n",
    "    return factors\n",
    "\n",
    "number = int(input(\"Enter a number to find its prime factors: \"))\n",
    "print(\"Prime factors of\", number, \"are:\", prime_factors(number))\n"
   ]
  },
  {
   "cell_type": "code",
   "execution_count": 60,
   "id": "90d38921-8c40-44b4-b2bb-113ddc4bb6bb",
   "metadata": {},
   "outputs": [
    {
     "name": "stdin",
     "output_type": "stream",
     "text": [
      "Enter a decimal number:  3\n"
     ]
    },
    {
     "name": "stdout",
     "output_type": "stream",
     "text": [
      "Binary representation: 11\n"
     ]
    }
   ],
   "source": [
    "# Write a function that converts a decimal number to a binary number\n",
    "\n",
    "def decimal_to_binary(decimal_num):\n",
    "    binary_num = ''\n",
    "    while decimal_num > 0:\n",
    "        remainder = decimal_num % 2\n",
    "        binary_num = str(remainder) + binary_num\n",
    "        decimal_num //= 2\n",
    "    return binary_num\n",
    "\n",
    "decimal_number = int(input(\"Enter a decimal number: \"))\n",
    "binary_number = decimal_to_binary(decimal_number)\n",
    "print(\"Binary representation:\", binary_number)"
   ]
  },
  {
   "cell_type": "code",
   "execution_count": 69,
   "id": "2ecc87b0-570b-4ddf-b711-fc99c9d9ad03",
   "metadata": {},
   "outputs": [
    {
     "name": "stdin",
     "output_type": "stream",
     "text": [
      "Enter an integer:  123\n"
     ]
    },
    {
     "name": "stdout",
     "output_type": "stream",
     "text": [
      "Sum of the cubes: 36\n"
     ]
    }
   ],
   "source": [
    "# Write a function cubesum() that accepts an integer and returns the sum of the cubes of individual digits of that number\n",
    "\n",
    "def cubesum(number):\n",
    "    total = 0\n",
    "    while number > 0:\n",
    "        digit = number % 10\n",
    "        total += digit ** 3\n",
    "        number //= 10\n",
    "    return total\n",
    "\n",
    "num = int(input(\"Enter an integer: \"))\n",
    "result = cubesum(num)\n",
    "print(\"Sum of the cubes:\", result)"
   ]
  },
  {
   "cell_type": "code",
   "execution_count": 71,
   "id": "366f2a50-1250-4d9f-b80a-46d33470e108",
   "metadata": {},
   "outputs": [
    {
     "name": "stdin",
     "output_type": "stream",
     "text": [
      "Enter a number:  28\n"
     ]
    },
    {
     "name": "stdout",
     "output_type": "stream",
     "text": [
      "Sum of proper divisors: 28\n"
     ]
    }
   ],
   "source": [
    "# Write a function sumPdivisors() that finds the sum of proper divisors of a number. Proper divisors of a number are those numbers by which the number is divisible, except the number itself.\n",
    "\n",
    "def sumPdivisors(number):\n",
    "    if number <= 0:\n",
    "        return 0\n",
    "    divisor_sum = 0\n",
    "    for i in range(1, number):\n",
    "        if number % i == 0:\n",
    "            divisor_sum += i\n",
    "    return divisor_sum\n",
    "\n",
    "num = int(input(\"Enter a number: \"))\n",
    "result = sumPdivisors(num)\n",
    "print(\"Sum of proper divisors:\", result)"
   ]
  },
  {
   "cell_type": "code",
   "execution_count": 72,
   "id": "01c8ce53-d452-4735-a401-67886ca2584a",
   "metadata": {},
   "outputs": [
    {
     "name": "stdin",
     "output_type": "stream",
     "text": [
      "Enter a num:  2\n"
     ]
    },
    {
     "name": "stdout",
     "output_type": "stream",
     "text": [
      "2 x 1 = 2\n",
      "2 x 2 = 4\n",
      "2 x 3 = 6\n",
      "2 x 4 = 8\n",
      "2 x 5 = 10\n",
      "2 x 6 = 12\n",
      "2 x 7 = 14\n",
      "2 x 8 = 16\n",
      "2 x 9 = 18\n",
      "2 x 10 = 20\n"
     ]
    }
   ],
   "source": [
    "# Print multiplication table of 12 using recursion.\n",
    "\n",
    "def multiply(num, it):\n",
    "    if(it<11):\n",
    "        print(num, 'x', it, '=', num*it)\n",
    "        multiply(num,it+1)\n",
    "\n",
    "num = int(input(\"Enter a num: \"))\n",
    "it=1\n",
    "\n",
    "multiply(num,it)"
   ]
  },
  {
   "cell_type": "code",
   "execution_count": 4,
   "id": "3c784f71-076c-46b5-aa7f-be5c659a3bfe",
   "metadata": {},
   "outputs": [
    {
     "name": "stdin",
     "output_type": "stream",
     "text": [
      "Enter the base:  2\n",
      "Enter power:  3\n"
     ]
    },
    {
     "name": "stdout",
     "output_type": "stream",
     "text": [
      "8\n"
     ]
    }
   ],
   "source": [
    "# Write a function to calculate power of a number raised to other ( a b ) using recursion.\n",
    "\n",
    "def power(base, pow):\n",
    "    if pow == 0:\n",
    "        return 1\n",
    "    elif pow > 0:\n",
    "        return base * power(base, pow - 1)\n",
    "\n",
    "base = float(input(\"Enter the base: \"))\n",
    "pow = int(input(\"Enter power: \"))\n",
    "result = power(base, pow)\n",
    "print(int(result))"
   ]
  },
  {
   "cell_type": "code",
   "execution_count": null,
   "id": "0a6e782e-2dfc-4f75-bd4b-0e14cb1edf87",
   "metadata": {},
   "outputs": [],
   "source": [
    "# WAF \"perfect()\" that determines if parameter number is a perfect number. Use this function in a program that determines and prints all the perfect numbers between 1 to 1000."
   ]
  }
 ],
 "metadata": {
  "kernelspec": {
   "display_name": "Python 3 (ipykernel)",
   "language": "python",
   "name": "python3"
  },
  "language_info": {
   "codemirror_mode": {
    "name": "ipython",
    "version": 3
   },
   "file_extension": ".py",
   "mimetype": "text/x-python",
   "name": "python",
   "nbconvert_exporter": "python",
   "pygments_lexer": "ipython3",
   "version": "3.10.11"
  }
 },
 "nbformat": 4,
 "nbformat_minor": 5
}
